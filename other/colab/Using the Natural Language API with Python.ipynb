{
  "cells": [
    {
      "cell_type": "markdown",
      "metadata": {
        "id": "view-in-github",
        "colab_type": "text"
      },
      "source": [
        "<a href=\"https://colab.research.google.com/github/lianavalentino/nu_capstone/blob/master/other/colab/Using%20the%20Natural%20Language%20API%20with%20Python.ipynb\" target=\"_parent\"><img src=\"https://colab.research.google.com/assets/colab-badge.svg\" alt=\"Open In Colab\"/></a>"
      ]
    },
    {
      "cell_type": "markdown",
      "metadata": {
        "id": "7vEBNTHjuvon"
      },
      "source": [
        "```text\n",
        "SPDX-FileCopyrightText: 2023 Google LLC\n",
        "SPDX-License-Identifier: Apache-2.0\n",
        "```\n"
      ]
    },
    {
      "cell_type": "markdown",
      "metadata": {
        "id": "yxKFLozC5tfO"
      },
      "source": [
        "# 🤯 Using the Natural Language API with Python\n",
        "\n",
        "<center>\n",
        "<table><tr><td>\n",
        "<img src=\"https://github.com/GoogleCloudPlatform/devrel-demos/blob/main/other/colab/pics/natural_language_api.png?raw=1\" style=\"height:200px\" height=\"200\" />\n",
        "</td></tr></table>\n",
        "<table><tr>\n",
        "<td><a href=\"https://colab.research.google.com/github/GoogleCloudPlatform/devrel-demos/blob/main/other/colab/Using%20the%20Natural%20Language%20API%20with%20Python.ipynb\">\n",
        "<img src=\"https://cloud.google.com/ml-engine/images/colab-logo-32px.png\" alt=\"Colab logo\" align=\"center\"> Open in Colab\n",
        "</a></td>\n",
        "<td><a href=\"https://github.com/GoogleCloudPlatform/devrel-demos/blob/main/other/colab/Using%20the%20Natural%20Language%20API%20with%20Python.ipynb\">\n",
        "<img src=\"https://cloud.google.com/ml-engine/images/github-logo-32px.png\" alt=\"GitHub logo\" align=\"center\"> View on GitHub\n",
        "</a></td>\n",
        "</tr></table>\n",
        "</center>\n",
        "\n",
        "The [Natural Language API](https://cloud.google.com/natural-language/docs/) lets you extract information from unstructured text using Google machine learning. In this tutorial, you'll focus on using its Python client library to perform the following:\n",
        "\n",
        "- Sentiment analysis\n",
        "- Entity analysis\n",
        "- Syntax analysis\n",
        "- Content classification\n",
        "- Text moderation (powered by [PaLM 2](https://blog.google/technology/ai/google-palm-2-ai-large-language-model))\n",
        "\n",
        "This notebook requires a Google Cloud project:\n",
        "\n",
        "- If needed, [create a new Google Cloud project](https://console.cloud.google.com/cloud-resource-manager).\n",
        "- Make sure that billing is enabled for your project.\n",
        "- It uses billable services but not should generate any cost (see the Natural Language API [free monthly thresholds](https://cloud.google.com/natural-language/pricing)).\n",
        "\n",
        "It can run in autopilot mode:\n",
        "\n",
        "- Launch \"Run all\".\n",
        "- If the setup installs packages and restarts the kernel, launch \"Run all\" again.\n",
        "- If requested, allow this notebook to access your Google credentials by signing in with your Google Cloud account.\n",
        "- If requested, select your Google Cloud project and continue (\"Run after\").\n",
        "\n",
        "> This port to a notebook was originally published on [Google Developers Codelabs](https://codelabs.developers.google.com/codelabs/cloud-natural-language-python3).\n"
      ]
    },
    {
      "cell_type": "markdown",
      "metadata": {
        "id": "JAUW8f9oi8mi"
      },
      "source": [
        "---\n",
        "\n",
        "## ✔️ Setup\n"
      ]
    },
    {
      "cell_type": "code",
      "execution_count": 1,
      "metadata": {
        "id": "mn2UJ8_VUtFa",
        "outputId": "58824622-3548-4f57-8bb9-1b44988b9216",
        "colab": {
          "base_uri": "https://localhost:8080/"
        }
      },
      "outputs": [
        {
          "output_type": "stream",
          "name": "stdout",
          "text": [
            "✔️ Python: 3.11.11\n",
            "✔️ pandas==2.2.2\n",
            "✔️ Jinja2==3.1.5\n",
            "✔️ ipywidgets==7.7.1\n",
            "✔️ google-cloud-language==2.16.0\n"
          ]
        }
      ],
      "source": [
        "# @title 📦️ Packages (may restart) {display-mode: \"form\"}\n",
        "\n",
        "# Dependencies (using Colab defaults for minimum versions)\n",
        "# Assumption: later versions are backward compatible\n",
        "PYTHON_MIN_VERSION = 3, 10\n",
        "NOTEBOOK_PACKAGES = [\n",
        "    (\"pandas\", \"1.5.3\"),\n",
        "    (\"Jinja2\", \"3.1.2\"),\n",
        "    (\"ipywidgets\", \"7.7.1\"),\n",
        "]\n",
        "NOTEBOOK_DEPENDENCIES = [\n",
        "    (package, min_version_str, package.lower())\n",
        "    for package, min_version_str in NOTEBOOK_PACKAGES\n",
        "]\n",
        "# Google Cloud APIs needed for this notebook\n",
        "# - {API}.googleapis.com is the service name\n",
        "# - google-cloud-{API} is its Python client library\n",
        "GOOGLE_CLOUD_APIS = [\n",
        "    (\"language\", \"2.11.0\"),\n",
        "]\n",
        "GOOGLE_CLOUD_SERVICES = [\n",
        "    f\"{API}.googleapis.com\" for API, _ in GOOGLE_CLOUD_APIS\n",
        "]\n",
        "NOTEBOOK_DEPENDENCIES += [\n",
        "    (f\"google-cloud-{API}\", min_version_str, f\"google.cloud.{API}\")\n",
        "    for API, min_version_str in GOOGLE_CLOUD_APIS\n",
        "]\n",
        "\n",
        "import importlib.metadata\n",
        "import sys\n",
        "\n",
        "import packaging.version\n",
        "from IPython.core.getipython import get_ipython\n",
        "\n",
        "running_in_colab = \"google.colab\" in sys.modules\n",
        "if running_in_colab:\n",
        "    from google.colab import auth as colab_auth\n",
        "restart_after_installation = running_in_colab\n",
        "\n",
        "\n",
        "class StopExecution(Exception):\n",
        "    def _render_traceback_(self):  # Suppress traceback in notebook\n",
        "        return [self.args[0]] if self.args else None\n",
        "\n",
        "\n",
        "def check_python_version():\n",
        "    version = \".\".join(map(str, sys.version_info[0:3]))\n",
        "    if PYTHON_MIN_VERSION <= sys.version_info:\n",
        "        print(f\"✔️ Python: {version}\")\n",
        "        return\n",
        "    required = \".\".join(map(str, PYTHON_MIN_VERSION))\n",
        "    raise StopExecution(f\"❌ Python: {version} (version {required}+ is required)\")\n",
        "\n",
        "\n",
        "def check_packages():\n",
        "    needed_packages = [\n",
        "        package\n",
        "        for package, min_version_str, lib in NOTEBOOK_DEPENDENCIES\n",
        "        if need_package(package, min_version_str, lib)\n",
        "    ]\n",
        "    if not needed_packages:\n",
        "        return\n",
        "    requirements = \" \".join(needed_packages)\n",
        "    %pip install --upgrade $requirements --quiet\n",
        "    if restart_after_installation:\n",
        "        restart_kernel()\n",
        "\n",
        "\n",
        "def need_package(package: str, min_version_str: str, lib: str) -> bool:\n",
        "    min_version = packaging.version.parse(min_version_str)\n",
        "    try:\n",
        "        lib_version = packaging.version.parse(importlib.metadata.version(lib))\n",
        "        if min_version <= lib_version:\n",
        "            print(f\"✔️ {package}=={lib_version!s}\")\n",
        "            return False\n",
        "        print(f\"📦️ {package} needs to be updated…\")\n",
        "    except importlib.metadata.PackageNotFoundError:\n",
        "        print(f\"📦️ {package} needs to be installed…\")\n",
        "    return True\n",
        "\n",
        "\n",
        "def restart_kernel():\n",
        "    if ipython := get_ipython():\n",
        "        ipython.kernel.do_shutdown(True)\n",
        "    raise StopExecution(\"❌ Restarting the kernel… Please run again\")\n",
        "\n",
        "\n",
        "def gcloud(command: str) -> list[str]:\n",
        "    command = command.replace(\"'\", '\"')\n",
        "    lines = !gcloud $command\n",
        "    if any(\"ERROR:\" in line for line in lines):\n",
        "        raise StopExecution(lines.nlstr)\n",
        "    return lines.list\n",
        "\n",
        "\n",
        "check_python_version()\n",
        "check_packages()"
      ]
    },
    {
      "cell_type": "code",
      "execution_count": 2,
      "metadata": {
        "id": "5Xt81s9pOlfI",
        "outputId": "ab891bfd-ba8f-4feb-9a60-a5c20214b9ff",
        "colab": {
          "base_uri": "https://localhost:8080/"
        }
      },
      "outputs": [
        {
          "output_type": "stream",
          "name": "stdout",
          "text": [
            "🔑 Authenticate to access your Google Cloud services\n",
            "✔️ Authenticated\n"
          ]
        }
      ],
      "source": [
        "# @title 🔑 Authentication {display-mode: \"form\"}\n",
        "\n",
        "\n",
        "def get_active_account() -> str:\n",
        "    lines = gcloud(\"config list --format 'value(core.account)'\")\n",
        "    return lines[0] if lines else \"\"\n",
        "\n",
        "\n",
        "def is_authenticated() -> bool:\n",
        "    return get_active_account() not in [\"\", \"default\"]\n",
        "\n",
        "\n",
        "if \"PYTHON_MIN_VERSION\" not in globals():\n",
        "    raise RuntimeWarning(\"❌ Please run the previous cell\")\n",
        "\n",
        "if not (authenticated := is_authenticated()):\n",
        "    print(f\"🔑 Authenticate to access your Google Cloud services\")\n",
        "    if running_in_colab:\n",
        "        colab_auth.authenticate_user()\n",
        "    else:\n",
        "        gcloud(\"auth login --brief\")\n",
        "    authenticated = is_authenticated()\n",
        "\n",
        "if authenticated:\n",
        "    print(f\"✔️ Authenticated\")\n",
        "else:\n",
        "    raise StopExecution(\"❌ Could not authenticate\")"
      ]
    },
    {
      "cell_type": "code",
      "execution_count": 3,
      "metadata": {
        "id": "Df7bSS-b7rdW",
        "outputId": "60f0a4f3-2257-4357-8ee1-3a529b29eed7",
        "colab": {
          "base_uri": "https://localhost:8080/",
          "height": 66,
          "referenced_widgets": [
            "8ecd8d08908c448a8702ff06c289693b",
            "b48d8b3f690e4c42a67279aa2028e979",
            "ae0a11fb4b80484b9d2185a933362d0d",
            "d8c36d7cdd684d0b9bd4d606a4b4acfa",
            "6f5ecda65c004e558ae74198f05a111d",
            "7759ba3b80274ba890f5dc74b3832332",
            "cd2634139e7f457e8bcca169f1795c89"
          ]
        }
      },
      "outputs": [
        {
          "output_type": "display_data",
          "data": {
            "text/plain": [
              "interactive(children=(Dropdown(description='PROJECT_ID', options=('stock-prediction-450009', 'clean-sequencer-…"
            ],
            "application/vnd.jupyter.widget-view+json": {
              "version_major": 2,
              "version_minor": 0,
              "model_id": "8ecd8d08908c448a8702ff06c289693b"
            }
          },
          "metadata": {}
        }
      ],
      "source": [
        "# @title ⚙️ Project ID {display-mode: \"form\"}\n",
        "\n",
        "\n",
        "def get_default_project_id() -> str:\n",
        "    lines = gcloud(\"config list --format 'value(core.project)'\")\n",
        "    return lines[0] if lines else \"\"\n",
        "\n",
        "\n",
        "def get_active_project_ids() -> list[str]:\n",
        "    return gcloud(\"projects list --format 'value(projectId)'\")\n",
        "\n",
        "\n",
        "def update_project_id(project_id: str | None = None):\n",
        "    if not project_id:\n",
        "        raise StopExecution(\"❌ Please select your project\")\n",
        "    global PROJECT_ID\n",
        "    if PROJECT_ID != project_id:\n",
        "        PROJECT_ID = project_id\n",
        "        if running_in_colab:\n",
        "            colab_auth.authenticate_user(project_id=PROJECT_ID)\n",
        "        else:\n",
        "            print(\"⚙️ Revoking Application Default Credentials…\")\n",
        "            gcloud(\"auth application-default revoke --quiet\")\n",
        "            print(\"⚙️ Setting Application Default Credentials…\")\n",
        "            gcloud(f\"auth application-default login --project {PROJECT_ID}\")\n",
        "            print(\"⚙️ Setting default project…\")\n",
        "            gcloud(f\"config set project {PROJECT_ID}\")\n",
        "    print(f\"✔️ PROJECT_ID: {PROJECT_ID}\")\n",
        "\n",
        "\n",
        "def show_project_ids(project_ids: list[str]):\n",
        "    import ipywidgets\n",
        "\n",
        "    @ipywidgets.interact(PROJECT_ID=project_ids)\n",
        "    def on_project_id(PROJECT_ID: str | None = None):\n",
        "        update_project_id(PROJECT_ID)\n",
        "\n",
        "\n",
        "if PROJECT_ID := get_default_project_id():\n",
        "    update_project_id(PROJECT_ID)\n",
        "else:\n",
        "    project_ids = get_active_project_ids()\n",
        "    if len(project_ids) == 1:  # Single project (e.g. onboarding developer)\n",
        "        update_project_id(project_ids[0])\n",
        "    else:\n",
        "        show_project_ids(project_ids)\n"
      ]
    },
    {
      "cell_type": "code",
      "execution_count": 5,
      "metadata": {
        "id": "w-QXa96aXzgw",
        "outputId": "5f6e63de-330f-41fd-b2c9-e7fa03defc79",
        "colab": {
          "base_uri": "https://localhost:8080/"
        }
      },
      "outputs": [
        {
          "output_type": "stream",
          "name": "stdout",
          "text": [
            "✔️ API \"language.googleapis.com\" is enabled\n"
          ]
        }
      ],
      "source": [
        "# @title 🔓 Project APIs {display-mode: \"form\"}\n",
        "\n",
        "\n",
        "def get_enabled_services() -> list[str]:\n",
        "    return gcloud(\"services list --enabled --format 'value(config.name)'\")\n",
        "\n",
        "\n",
        "if not PROJECT_ID:\n",
        "    raise StopExecution(\"❌ PROJECT_ID is undefined\")\n",
        "\n",
        "if not GOOGLE_CLOUD_SERVICES:\n",
        "    print(f\"✔️ No specific API needed\")\n",
        "else:\n",
        "    enabled_services = get_enabled_services()\n",
        "    services_to_enable = [\n",
        "        service for service in GOOGLE_CLOUD_SERVICES if service not in enabled_services\n",
        "    ]\n",
        "    if services_to_enable:\n",
        "        api_or_apis = \"APIs\" if 1 < len(services_to_enable) else \"API\"\n",
        "        spaced_services = \" \".join(services_to_enable)\n",
        "        print(f'🔓 Enabling {api_or_apis} \"{spaced_services}\"…')\n",
        "        gcloud(f\"services enable {spaced_services}\")\n",
        "        enabled_services = get_enabled_services()\n",
        "\n",
        "    for service in GOOGLE_CLOUD_SERVICES:\n",
        "        if service in enabled_services:\n",
        "            print(f'✔️ API \"{service}\" is enabled')\n",
        "        else:\n",
        "            raise StopExecution(f'❌ Failed to enable API \"{service}\"')"
      ]
    },
    {
      "cell_type": "code",
      "execution_count": 6,
      "metadata": {
        "id": "8zA4DxGDagbv",
        "outputId": "23752bc3-97a1-435b-f951-9b18e2a8afcd",
        "colab": {
          "base_uri": "https://localhost:8080/"
        }
      },
      "outputs": [
        {
          "output_type": "stream",
          "name": "stdout",
          "text": [
            "✔️ Helpers defined\n"
          ]
        }
      ],
      "source": [
        "# @title 🛠️ Helper functions {display-mode: \"form\"}\n",
        "\n",
        "import pandas as pd\n",
        "from IPython.display import display\n",
        "\n",
        "\n",
        "def show_table(columns, data, formats=None, remove_empty_columns=False):\n",
        "    df = pd.DataFrame(columns=columns, data=data)\n",
        "    if remove_empty_columns:\n",
        "        empty_cols = [col for col in df if df[col].eq(\"\").all()]\n",
        "        df.drop(empty_cols, axis=1, inplace=True)\n",
        "    # Customize formatting\n",
        "    styler = df.style\n",
        "    if formats:\n",
        "        styler.format(formats)\n",
        "    # Left-align string columns\n",
        "    df = df.convert_dtypes()\n",
        "    str_cols = list(df.select_dtypes(\"string\").keys())\n",
        "    styler = styler.set_properties(subset=str_cols, **{\"text-align\": \"left\"})\n",
        "    # Center headers\n",
        "    styler.set_table_styles([{\"selector\": \"th\", \"props\": [(\"text-align\", \"center\")]}])\n",
        "    styler.hide()\n",
        "    display(styler)\n",
        "\n",
        "\n",
        "print(f\"✔️ Helpers defined\")"
      ]
    },
    {
      "cell_type": "markdown",
      "metadata": {
        "id": "YuhPWlD5M1Kp"
      },
      "source": [
        "---\n",
        "\n",
        "## 🐍 Using the Python client library\n",
        "\n",
        "You can use the Natural Language API in Python with the client library `google-cloud-language` and the following import:"
      ]
    },
    {
      "cell_type": "code",
      "execution_count": 7,
      "metadata": {
        "id": "AvAG6DJxuqJI"
      },
      "outputs": [],
      "source": [
        "from google.cloud import language_v1 as language\n"
      ]
    },
    {
      "cell_type": "markdown",
      "metadata": {
        "id": "o83udK7BZOBC"
      },
      "source": [
        "> Note: Version `v1` is Generally Available (GA). Version `v2` is currently in Preview.\n",
        "\n",
        "---\n",
        "\n",
        "## 1️⃣ Sentiment analysis\n",
        "\n",
        "Sentiment analysis inspects the given text and identifies the prevailing emotional opinions within the text, especially to determine expressed sentiments as positive, negative, or neutral, both at the sentence and the document levels. It is performed with the `analyze_sentiment` method which returns an `AnalyzeSentimentResponse`.\n"
      ]
    },
    {
      "cell_type": "code",
      "execution_count": 8,
      "metadata": {
        "id": "ELEmIsYJZQ-i"
      },
      "outputs": [],
      "source": [
        "from google.cloud import language_v1 as language\n",
        "\n",
        "\n",
        "def analyze_text_sentiment(text: str) -> language.AnalyzeSentimentResponse:\n",
        "    client = language.LanguageServiceClient()\n",
        "    document = language.Document(\n",
        "        content=text,\n",
        "        type_=language.Document.Type.PLAIN_TEXT,\n",
        "    )\n",
        "    return client.analyze_sentiment(document=document)\n",
        "\n",
        "\n",
        "def show_text_sentiment(response: language.AnalyzeSentimentResponse):\n",
        "    columns = [\"score\", \"sentence\"]\n",
        "    data = [(s.sentiment.score, s.text.content) for s in response.sentences]\n",
        "    formats = {\"score\": \"{:+.1f}\"}\n",
        "    print(\"At sentence level:\")\n",
        "    show_table(columns, data, formats)\n",
        "\n",
        "    sentiment = response.document_sentiment\n",
        "    columns = [\"score\", \"magnitude\", \"language\"]\n",
        "    data = [(sentiment.score, sentiment.magnitude, response.language)]\n",
        "    formats = {\"score\": \"{:+.1f}\", \"magnitude\": \"{:.1f}\"}\n",
        "    print(\"\")\n",
        "    print(\"At document level:\")\n",
        "    show_table(columns, data, formats)"
      ]
    },
    {
      "cell_type": "markdown",
      "metadata": {
        "id": "AB2X-SKMwjLU"
      },
      "source": [
        "Now, let's perform an analysis:\n"
      ]
    },
    {
      "cell_type": "code",
      "source": [
        "# prompt: read in table from big query stock-prediction-450009.stock_data.earnings_call_transcripts. then create a widget to filter on ticker, year, quarter if wanted\n",
        "\n",
        "from google.colab import auth\n",
        "auth.authenticate_user()\n",
        "import pandas as pd\n",
        "from google.cloud import bigquery\n",
        "\n",
        "# Construct a BigQuery client object.\n",
        "client = bigquery.Client(project='stock-prediction-450009')\n",
        "\n",
        "# TODO(developer): Set table_id to the ID of the table to read.\n",
        "table_id = 'stock-prediction-450009.stock_data.earnings_call_transcripts'\n",
        "\n",
        "# Read the table into a Pandas DataFrame.\n",
        "df = client.query(f'SELECT * FROM `{table_id}`').to_dataframe()\n",
        "\n",
        "\n",
        "import ipywidgets as widgets\n",
        "from IPython.display import display, clear_output\n",
        "\n",
        "# Get unique values for filtering\n",
        "tickers = df['ticker'].unique()\n",
        "years = df['year'].unique()\n",
        "quarters = df['quarter'].unique()\n",
        "\n",
        "\n",
        "ticker_dropdown = widgets.Dropdown(\n",
        "    options=tickers,\n",
        "    description='Ticker:',\n",
        ")\n",
        "\n",
        "year_dropdown = widgets.Dropdown(\n",
        "    options=years,\n",
        "    description='Year:',\n",
        ")\n",
        "\n",
        "quarter_dropdown = widgets.Dropdown(\n",
        "    options=quarters,\n",
        "    description='Quarter:',\n",
        ")\n",
        "\n",
        "\n",
        "def on_button_clicked(b):\n",
        "    clear_output(wait=True)\n",
        "    display(ticker_dropdown, year_dropdown, quarter_dropdown, button)\n",
        "\n",
        "    selected_ticker = ticker_dropdown.value\n",
        "    selected_year = year_dropdown.value\n",
        "    selected_quarter = quarter_dropdown.value\n",
        "\n",
        "    filtered_df = df[(df['ticker'] == selected_ticker) &\n",
        "                     (df['year'] == selected_year) &\n",
        "                     (df['quarter'] == selected_quarter)]\n",
        "    display(filtered_df)\n",
        "\n",
        "\n",
        "button = widgets.Button(description=\"Filter\")\n",
        "button.on_click(on_button_clicked)\n",
        "\n",
        "display(ticker_dropdown, year_dropdown, quarter_dropdown, button)\n"
      ],
      "metadata": {
        "id": "glRBh0Qqxkwr",
        "outputId": "1b36ba60-b0a3-4241-cc7a-a87500609019",
        "colab": {
          "base_uri": "https://localhost:8080/",
          "height": 205,
          "referenced_widgets": [
            "989f2d2ee2d746eda25f8dc80282bc7d",
            "cbbeb336eb8846e88c1392af9fbe113c",
            "6aecd24fa3784c3394204b7d96a0b63b",
            "ed0b3f521b024be3901f010db84a8e19",
            "d6c2d14b4d37481eb7494aebed477317",
            "d71983c6984f48b9bad229a082121c7f",
            "0646e5a0eb4141c2874b99af65e563f8",
            "85726a14637f4ccf9504ecbb5986503f",
            "610441babb5d45dc8f0dfeb988524a59",
            "c62e8b2ead934f088fdc549045d3a4af",
            "88c233f4cc7940edb2438407747be0fa",
            "199dfa98ec99472d876b7fdb3cbdff0b"
          ]
        }
      },
      "execution_count": 10,
      "outputs": [
        {
          "output_type": "display_data",
          "data": {
            "text/plain": [
              "Dropdown(description='Ticker:', options=('UBER', 'ADSK', 'FTNT', 'AMAT', 'PLTR', 'AAPL', 'NVDA', 'CSCO', 'NOW'…"
            ],
            "application/vnd.jupyter.widget-view+json": {
              "version_major": 2,
              "version_minor": 0,
              "model_id": "989f2d2ee2d746eda25f8dc80282bc7d"
            }
          },
          "metadata": {}
        },
        {
          "output_type": "display_data",
          "data": {
            "text/plain": [
              "Dropdown(description='Year:', options=(2024, 2015, 2016, 2017, 2018, 2019, 2020, 2021, 2022, 2023), value=2024…"
            ],
            "application/vnd.jupyter.widget-view+json": {
              "version_major": 2,
              "version_minor": 0,
              "model_id": "ed0b3f521b024be3901f010db84a8e19"
            }
          },
          "metadata": {}
        },
        {
          "output_type": "display_data",
          "data": {
            "text/plain": [
              "Dropdown(description='Quarter:', options=('Q2', 'Q3', 'Q1', 'Q4'), value='Q2')"
            ],
            "application/vnd.jupyter.widget-view+json": {
              "version_major": 2,
              "version_minor": 0,
              "model_id": "0646e5a0eb4141c2874b99af65e563f8"
            }
          },
          "metadata": {}
        },
        {
          "output_type": "display_data",
          "data": {
            "text/plain": [
              "Button(description='Filter', style=ButtonStyle())"
            ],
            "application/vnd.jupyter.widget-view+json": {
              "version_major": 2,
              "version_minor": 0,
              "model_id": "c62e8b2ead934f088fdc549045d3a4af"
            }
          },
          "metadata": {}
        },
        {
          "output_type": "display_data",
          "data": {
            "text/plain": [
              "  ticker  year quarter            datetime  \\\n",
              "0   UBER  2024      Q2 2024-08-06 08:00:00   \n",
              "\n",
              "                                       speakers_list  \\\n",
              "0  Ross Sandler,Prashanth Mahendra-Rajah,John Col...   \n",
              "\n",
              "                                          transcript  \n",
              "0  Operator: Thank you and welcome to the Uber Q2...  "
            ],
            "text/html": [
              "\n",
              "  <div id=\"df-ae6d0810-c619-40b2-9b2a-dc023eb3247e\" class=\"colab-df-container\">\n",
              "    <div>\n",
              "<style scoped>\n",
              "    .dataframe tbody tr th:only-of-type {\n",
              "        vertical-align: middle;\n",
              "    }\n",
              "\n",
              "    .dataframe tbody tr th {\n",
              "        vertical-align: top;\n",
              "    }\n",
              "\n",
              "    .dataframe thead th {\n",
              "        text-align: right;\n",
              "    }\n",
              "</style>\n",
              "<table border=\"1\" class=\"dataframe\">\n",
              "  <thead>\n",
              "    <tr style=\"text-align: right;\">\n",
              "      <th></th>\n",
              "      <th>ticker</th>\n",
              "      <th>year</th>\n",
              "      <th>quarter</th>\n",
              "      <th>datetime</th>\n",
              "      <th>speakers_list</th>\n",
              "      <th>transcript</th>\n",
              "    </tr>\n",
              "  </thead>\n",
              "  <tbody>\n",
              "    <tr>\n",
              "      <th>0</th>\n",
              "      <td>UBER</td>\n",
              "      <td>2024</td>\n",
              "      <td>Q2</td>\n",
              "      <td>2024-08-06 08:00:00</td>\n",
              "      <td>Ross Sandler,Prashanth Mahendra-Rajah,John Col...</td>\n",
              "      <td>Operator: Thank you and welcome to the Uber Q2...</td>\n",
              "    </tr>\n",
              "  </tbody>\n",
              "</table>\n",
              "</div>\n",
              "    <div class=\"colab-df-buttons\">\n",
              "\n",
              "  <div class=\"colab-df-container\">\n",
              "    <button class=\"colab-df-convert\" onclick=\"convertToInteractive('df-ae6d0810-c619-40b2-9b2a-dc023eb3247e')\"\n",
              "            title=\"Convert this dataframe to an interactive table.\"\n",
              "            style=\"display:none;\">\n",
              "\n",
              "  <svg xmlns=\"http://www.w3.org/2000/svg\" height=\"24px\" viewBox=\"0 -960 960 960\">\n",
              "    <path d=\"M120-120v-720h720v720H120Zm60-500h600v-160H180v160Zm220 220h160v-160H400v160Zm0 220h160v-160H400v160ZM180-400h160v-160H180v160Zm440 0h160v-160H620v160ZM180-180h160v-160H180v160Zm440 0h160v-160H620v160Z\"/>\n",
              "  </svg>\n",
              "    </button>\n",
              "\n",
              "  <style>\n",
              "    .colab-df-container {\n",
              "      display:flex;\n",
              "      gap: 12px;\n",
              "    }\n",
              "\n",
              "    .colab-df-convert {\n",
              "      background-color: #E8F0FE;\n",
              "      border: none;\n",
              "      border-radius: 50%;\n",
              "      cursor: pointer;\n",
              "      display: none;\n",
              "      fill: #1967D2;\n",
              "      height: 32px;\n",
              "      padding: 0 0 0 0;\n",
              "      width: 32px;\n",
              "    }\n",
              "\n",
              "    .colab-df-convert:hover {\n",
              "      background-color: #E2EBFA;\n",
              "      box-shadow: 0px 1px 2px rgba(60, 64, 67, 0.3), 0px 1px 3px 1px rgba(60, 64, 67, 0.15);\n",
              "      fill: #174EA6;\n",
              "    }\n",
              "\n",
              "    .colab-df-buttons div {\n",
              "      margin-bottom: 4px;\n",
              "    }\n",
              "\n",
              "    [theme=dark] .colab-df-convert {\n",
              "      background-color: #3B4455;\n",
              "      fill: #D2E3FC;\n",
              "    }\n",
              "\n",
              "    [theme=dark] .colab-df-convert:hover {\n",
              "      background-color: #434B5C;\n",
              "      box-shadow: 0px 1px 3px 1px rgba(0, 0, 0, 0.15);\n",
              "      filter: drop-shadow(0px 1px 2px rgba(0, 0, 0, 0.3));\n",
              "      fill: #FFFFFF;\n",
              "    }\n",
              "  </style>\n",
              "\n",
              "    <script>\n",
              "      const buttonEl =\n",
              "        document.querySelector('#df-ae6d0810-c619-40b2-9b2a-dc023eb3247e button.colab-df-convert');\n",
              "      buttonEl.style.display =\n",
              "        google.colab.kernel.accessAllowed ? 'block' : 'none';\n",
              "\n",
              "      async function convertToInteractive(key) {\n",
              "        const element = document.querySelector('#df-ae6d0810-c619-40b2-9b2a-dc023eb3247e');\n",
              "        const dataTable =\n",
              "          await google.colab.kernel.invokeFunction('convertToInteractive',\n",
              "                                                    [key], {});\n",
              "        if (!dataTable) return;\n",
              "\n",
              "        const docLinkHtml = 'Like what you see? Visit the ' +\n",
              "          '<a target=\"_blank\" href=https://colab.research.google.com/notebooks/data_table.ipynb>data table notebook</a>'\n",
              "          + ' to learn more about interactive tables.';\n",
              "        element.innerHTML = '';\n",
              "        dataTable['output_type'] = 'display_data';\n",
              "        await google.colab.output.renderOutput(dataTable, element);\n",
              "        const docLink = document.createElement('div');\n",
              "        docLink.innerHTML = docLinkHtml;\n",
              "        element.appendChild(docLink);\n",
              "      }\n",
              "    </script>\n",
              "  </div>\n",
              "\n",
              "\n",
              "    </div>\n",
              "  </div>\n"
            ],
            "application/vnd.google.colaboratory.intrinsic+json": {
              "type": "dataframe",
              "summary": "{\n  \"name\": \"display(ticker_dropdown, year_dropdown, quarter_dropdown, button)\",\n  \"rows\": 1,\n  \"fields\": [\n    {\n      \"column\": \"ticker\",\n      \"properties\": {\n        \"dtype\": \"string\",\n        \"num_unique_values\": 1,\n        \"samples\": [\n          \"UBER\"\n        ],\n        \"semantic_type\": \"\",\n        \"description\": \"\"\n      }\n    },\n    {\n      \"column\": \"year\",\n      \"properties\": {\n        \"dtype\": \"Int64\",\n        \"num_unique_values\": 1,\n        \"samples\": [\n          2024\n        ],\n        \"semantic_type\": \"\",\n        \"description\": \"\"\n      }\n    },\n    {\n      \"column\": \"quarter\",\n      \"properties\": {\n        \"dtype\": \"string\",\n        \"num_unique_values\": 1,\n        \"samples\": [\n          \"Q2\"\n        ],\n        \"semantic_type\": \"\",\n        \"description\": \"\"\n      }\n    },\n    {\n      \"column\": \"datetime\",\n      \"properties\": {\n        \"dtype\": \"date\",\n        \"min\": \"2024-08-06 08:00:00\",\n        \"max\": \"2024-08-06 08:00:00\",\n        \"num_unique_values\": 1,\n        \"samples\": [\n          \"2024-08-06 08:00:00\"\n        ],\n        \"semantic_type\": \"\",\n        \"description\": \"\"\n      }\n    },\n    {\n      \"column\": \"speakers_list\",\n      \"properties\": {\n        \"dtype\": \"string\",\n        \"num_unique_values\": 1,\n        \"samples\": [\n          \"Ross Sandler,Prashanth Mahendra-Rajah,John Colatuoni,Operator,Eric Sheridan,Brian Nowak,Dara Khosrowshahi,Mark Mahaney,Nikhil Devnani,Deepa Subramanian,Justin Post,Doug Anmuth\"\n        ],\n        \"semantic_type\": \"\",\n        \"description\": \"\"\n      }\n    },\n    {\n      \"column\": \"transcript\",\n      \"properties\": {\n        \"dtype\": \"string\",\n        \"num_unique_values\": 1,\n        \"samples\": [\n          \"Operator: Thank you and welcome to the Uber Q2 2024 earnings conference call. All lines have been placed on mute to prevent any background noise. After the speakers\\u2019 remarks, there will be a question and answer session. If you would like to ask a question during this time, please press star, one on your telephone keypad. I would now like to turn the conference over to Deepa Subramanian, Vice President, Investor Relations and Corporate Finance. Please go ahead.\\nDeepa Subramanian: Thank you Operator. Thank you for joining us today, and welcome to Uber\\u2019s second quarter 2024 earnings presentation. On the call today, we have Uber CEO, Dara Khosrowshahi, and CFO Prashanth Mahendra-Rajah. During today\\u2019s call, we will present both GAAP and non-GAAP financial measures. Additional disclosures regarding these non-GAAP measures, including a reconciliation of GAAP to non-GAAP measures are included in the press release, supplemental slides, and our filings with the SEC, each of which is posted to investor.uber.com. Certain statements in this presentation and on this call are forward-looking statements. You should not place undue reliance on forward-looking statements. Actual results may differ materially from these forward-looking statements and we do not undertake any obligation to update any forward-looking statements we make today, except as required by law. For more information about factors that may cause actual results to differ materially from forward-looking statements, please refer to the press release we issued today, as well as the risks and uncertainties described in our most recent Form 10-K and in other filings made with the SEC. We published a quarterly earnings press release, prepared remarks, and supplemental slides to our Investor Relations website earlier today and we ask you to review those documents, if you haven\\u2019t already. We will open the call to questions following brief opening remarks from Dara. With that, let me hand it over to Dara.\\nDara Khosrowshahi: Thanks Deepa. Q2 was another record quarter for Uber and further demonstrated our ability to deliver profitable growth at scale. Gross bookings grew 21% on a constant currency basis, consistent with trip growth. Our audience expanded 14% while frequency grew 6%, supported by 7.4 million drivers and couriers globally. At the same time, adjusted EBITDA grew 71% year-on-year and we generated record quarterly GAAP operating income. These are super strong results that we\\u2019re proud of, but I also understand there are two big questions out there that I want to address before we head into Q&A. First, the strength of the consumer and how Uber will perform in a recession. Based on what we\\u2019re seeing today, the Uber consumer is in great shape. Our audience is bigger than ever and using our services more frequently than ever. While our consumers tend to be higher income, we\\u2019re not seeing any softness or trading down across any income cohort. Were the current macroeconomic fears to materialize, we\\u2019re confident that Uber can perform well because of the countercyclical nature of our platform. On the mobility side, more driver supply brings down prices for riders and improves reliability, and on the delivery side, merchants are investing in performance channels like ours for growth, improving selection and affordability for consumers. In fact, in Q2 the number of first-time consumers on Uber Eats in the U.S. was higher than at any point over the past five quarters. It\\u2019s clear that delivery is much more habitual than many assumed, made even more so by our Uber One membership, which now covers 50% of delivery gross bookings. We\\u2019ll continue to drive consistent top line growth while expanding GAAP operating income. Our track record of making and then exceeding our commitments should give investors confidence that we\\u2019ve built the capital discipline and operational muscle to perform well in any scenario. Second, autonomous - put simply, Uber is uniquely positioned to offer tremendous value for AV players looking to deploy their technology at scale. While the operation of a ride hail network may seem simple, our technology obscures a huge amount of complexity. We support roughly one million trips per hour and our average ETA globally is approximately four minutes. That\\u2019s possible because of marketplace tech that makes over 10 million predictions per second, and more mundanely, we handled more than 25 million lost items in just last year alone. We also know that a key factor in AV commercialization will be asset utilization. AV players will need to ensure that their expensive assets are being used as close to 24 hours a day as possible while also managing the daily and weekly peaks and valleys of ride hail activity. Uber can provide enormous demand without AV players needing to invest capital towards acquiring customers or building the marketplace tech that delivers reliability at the standard that consumers have come to expect. That\\u2019s all to say that Uber will be an indispensable partner for AV players of all sorts. We\\u2019re in late stage discussions with additional global AV players to join our platform and will have more announcements in the coming weeks and months. Thanks to the Uber team for another great quarter. With that, Operator, let\\u2019s open the call for questions.\\nOperator: Thank you. [Operator instructions] Your first question comes from the line of Brian Nowak with Morgan Stanley. Your line is open.\\nBrian Nowak: Thanks for taking my questions. I have two, the first one is on AV. Dara, I appreciate the color, and even the extra color in the press release. My question is, is there any more detail on what you\\u2019re seeing in Arizona around incrementality of rides from the partnership? How do we think about sort of the relative unit economics, and philosophically, what is your strategy of reinvesting dollars to sort of drive more AV growth versus delivering profitability? Then the second one on mobility specifically, can you talk to us just a little bit on what you\\u2019re seeing on mobility MAPC versus frequency growth drivers, just [indiscernible] or break apart what\\u2019s driving that growth in the quarter for mobility? Thanks.\\nDara Khosrowshahi: Sure, absolutely Brian, thanks for the question. I don\\u2019t want to speak specifically to Arizona because obviously we have Waymo as a partner there, and I want to hold confidentiality, etc. as any partner should. But when we look more broadly at our operations with the various AV players that we see, what we do see is that the utilization that these AV players are able to develop on our network is significantly higher than the utilization we believe that they\\u2019re able to run out without [indiscernible] basis, so 3P utilization is significantly higher than 1P utilization. If you think about the role of the marketplace, the role of the marketplace is to drive utilization of fixed assets. I mean, in the end, it\\u2019s why a McDonald\\u2019s or a Starbucks or even Dominos now works with us - they have direct channels to consumers, but they also work through the marketplace to bring more demand to their stores, so to speak, and we think the same will be true of AV players, which is as long as we\\u2019re able to drive higher utilization and the utilization that we drive, the incrementality we think significantly exceeds the take rate that we will charge on average for mobility. Not including insurance costs, our global take rate is around 20%, so you\\u2019d have to drive 25% increasing utilization. We believe that those utilization numbers are possible and we think that we can exceed those kinds of utilization numbers. Right now, the economics and the math are definitely working. I think the additional benefit that we bring to these players is we have a dynamic dispatch model that can determine what are the pick-ups and drop-offs that an autonomous player can effectively play with - you know, the pick-up point is easy, it\\u2019s within a block, same thing with the drop-off points, and then what are the circumstances when we should dispatch a human for a particular pick-up or a drop-off, if the route is complex or the pick-up or drop-off has some special circumstances. We\\u2019re able to essentially allow autonomous players to dispatch in situations where we know that they will succeed, so all in all the early data is quite encouraging, and as I said, we\\u2019ve had lots of discussions with other players out there. We don\\u2019t think this will be a win or take all market, and we think that we will continue to have the most liquid and largest marketplace that will be--that will have humans and AV players as part of it during this pretty long hybrid period, as autonomous is development and regulators are trying to figure out exactly how to regulate it. Prashanth, do you want to take the second one?\\nPrashanth Mahendra-Rajah: I will, thanks Dara. I think, Brian, your question was on mobility growth, so maybe I\\u2019ll start with just restating how we did for Q2 and our outlook for Q3. For Q2, the results that we printed, if you do it at a constant currency, very strong at 27% year-over-year growth. For Q3, we\\u2019re looking for sort of a repeat in that mid-20s range, again on a constant currency basis. But when you dig into why do we have such confidence in the mobility business, I would take you back to the framework we talked about in February, that mobility over the three years that we gave you should be growing at the mid-teens or better, and that\\u2019s coming from a couple items. On the user side, we still believe that we have a pretty massive TAM that we can go after. We\\u2019re continuing to drive product innovation, and we talked about a couple of those at Go Get earlier this year, and we\\u2019re continuing to find new demographics in areas to continue to expand in. Maybe one data point on TAM that I think is helpful for folks is our monthly penetration of consumers, and we define that as folks who are over 18 years, is less than 20% across our top 10 countries, so a lot of room to run there. Another key driver will be frequency, which I think folks understand to be how our monthly active--how many times our monthly actives engage with the platform. We are launching new products, continuing to improve reliability so that when you call for an Uber, we\\u2019re able to get you one at a time that you\\u2019re looking for, and of course the benefits of membership. Only about half of our riders take one to two trips per month, so again plenty of upside there to continue to drive this as a more frequent daily use case.\\nDara Khosrowshahi: Then Brian, I think you had asked about our strategy to reinvest to drive, let\\u2019s say, AV growth versus profits. Generally we are able to lean into our newer products, so for example if you look at moto, which are two wheelers in Latin America and a number of developing countries, if you look at our shared product, UberX Share, where we get more than one passenger in a vehicle, or even taxis, those newer products are growing faster than the base business and their margins are substantially lower than the base business, but we\\u2019re able to-- as we scale, we\\u2019re able to leverage our cost base, our technology improvements in terms of targeting, in terms of CPT all allow us to have a profit envelope to be able to be reinvest into our newer products - AV is one of those new products, while overall increasing profit margins. This is something that we\\u2019ve been doing for years, and we think AV will be part of the same equation. I don\\u2019t--you know, AV is not something that we\\u2019re going to look to make substantial profits from over the next five to 10 years, and that\\u2019s just fine because we\\u2019ll be able to build a lot of liquidity in the marketplace to continue on the path that we have been operating in over the past five years.\\nBrian Nowak: Great, thank you both.\\nDara Khosrowshahi: You\\u2019re welcome. Next question?\\nOperator: Your next question comes from the line of Doug Anmuth with JP Morgan. Your line is open.\\nDoug Anmuth: Thanks so much for taking the questions. Dara, can you just talk more about the importance of the BYD partnership as you bring new EVs into global markets, and then perhaps how that can tie into AV over time? Then Prashanth, just if you could talk more about the drivers of delivery profitability - good upside there in the quarter, and what gives you the confidence on the clear path to EBITDA profit in grocery and retail as well? Thank you.\\nDara Khosrowshahi: Yes, absolutely Doug. I\\u2019ll start with BYD. The electrification of our fleet is an incredibly important initiative for us. We are--if you look at Uber, Uber drivers are switching over to electric at five times the speed that normal drivers are, and if there\\u2019s any driver that you want to switch over to EVs, it\\u2019s an Uber driver because Uber drivers also drive around five times the miles of a regular driver as well, so it\\u2019s a very targeted segment that we\\u2019re going after and we\\u2019re hoping that governments can help us go after as well. The number one reason why some drivers hesitate to move over to EVs is affordability, and the fact is that BYD, when you look at cost and quality, BYD is really second to none in terms of any manufacturer out there. We\\u2019re very, very excited with the partnership. We are--we believe we\\u2019re going to bring over 100,000 new BYD EVs onto the Uber platform across some of our most important global markets out there, and we\\u2019ve always talked about climate being a team sport, we are going to be leaders in terms of climate change, and having BYD as a partner is just terrific to see. More recently, BYD has committed to very, very significant investments in the AV space, and judging from what they have accomplished in the EV space, I would not--I would make a bet on them in AV as well. But the investment that they\\u2019re making in AV is in the billions and we\\u2019re very much looking forward to partnering with them on both EVs and AVs. Prashanth?\\nPrashanth Mahendra-Rajah: Yes, so I think your question was on delivery profitability. Although we don\\u2019t--we don\\u2019t want to draw attention to incremental margins, we did have a pretty terrific quarter for incremental margins in delivery - 10% for the second quarter, so putting a little context around that. We are clearly seeing the benefits of scale as it runs through the delivery business and we still have many levers that we\\u2019re continuing to tune to drive that profitability in delivery. That includes some incredible tech that the team has built that continues to drive down the cost per transaction--cost per trip in terms of operational improvements. We\\u2019ve got great improvements in advertising - I think we mentioned in the prepared remarks that\\u2019s now running in excess of a billion dollars on a run rate basis, and continuing to find ways, both operationally and with tech, to reduce some of our other costs like refunds and appeasements, which are still a bit of a drag on the delivery segment. You know, the fact that we were able to grow delivery profitability while continuing to have very strong growth in grocery really is a good indicator of how much strong growth we\\u2019re seeing in that profitability. I think delivery EBITDA was up by 25 basis points sequentially, and that is despite grocery growing at a substantially faster rate than delivery. In grocery profitability, it\\u2019s what we\\u2019ve talked about in the past - you know, using the power of the platform, we can bring down the customer acquisition cost and drive those cost efficiencies. We\\u2019ve got 15% of our Eats customers are now using grocery - that\\u2019s up about 200 basis points year-over-year as of middle of the year, and we\\u2019re seeing retention on grocery also improving. I mentioned the ads revenue, and then also starting--given that our selection\\u2019s improving, we\\u2019re also driving down consumer promotions and continuing to add more and more merchants onto the platform - we mentioned Costco, and I think in the press release or prepared remarks, we also mentioned a couple other grocers. All in all, things are on track to where we gave you in our three-year model, and grocery is continuing to be a strong story for our delivery business.\\nDara Khosrowshahi: Just one very encouraging trend on grocery and retail is that ad spend on grocery and retail has more than tripled on a year-on-year basis - obviously that\\u2019s very high margin product, and we are continuing to expand our CPG product now into a bunch of new countries, so the momentum there is terrific to see.\\nOperator: Your next question comes from the line of Eric Sheridan with Goldman Sachs. Your line is open.\\nEric Sheridan: Thanks so much for taking the questions. Maybe two, if I could, coming back to the delivery business. Building on the last set of comments, how do you think about the potential longer term for increased utility, increased frequency as you layer more supply into the delivery network, and what you continue to learn about the relationship of evolving the experience for consumers and what it means for platform growth over a longer period of time? Then also on the delivery side, we\\u2019ve seen a lot of market consolidation and market rationalization in some of the countries around the globe. How do you think about the asset portfolio on delivery and your current marketing positioning against some of those industry dynamics you\\u2019re seeing on the capital side? Thanks so much.\\nDara Khosrowshahi: Yes Eric, so what we\\u2019re seeing in terms of delivery is the long term growth is incredibly promising, and especially our ability to expand into the adjacent category of grocery and retail. The grocery and retail TAM is actually bigger than the online food delivery TAM, so not only do we believe we\\u2019ve got a long runway in online food delivery but we\\u2019re just getting started as it relates to grocery and retail. We now have 1.1 million merchants on the platform - that\\u2019s up 13%. Our merchant penetration in most countries still is very low, well under 50%, and every time we add a merchant, because we have more diversity of choice, average conversion tends to improve for consumers who are kind of searching for their favorite restaurant or favorite dessert place, and each merchant gives us actually another item to market against as it relates to search engine optimization or search engine marketing in third party channels as well. So new merchants add conversion, choice, and actually are another item to market against, and we\\u2019re a very, very long way in terms of full merchant penetration in the marketplace. It all results in either retention being up globally in every single mega region just in June on a year-on-year basis, so right now we believe there\\u2019s a very, very long runway for growth. The more consumers use our products in a multi-product way, whether it\\u2019s a mobility user using delivery or a delivery user buying from grocery and retail, the more they transact on the platform, multi-product consumers spend three times more than single product consumers, and for us, the more products we add to the marketplace, the more this benefit adds onto it, and then on top of that, you add our membership product as well, which is now over 50% of bookings. The volumes are strong, we are not having to buy our way into strong volumes, we\\u2019re kind of earning our way into strong volumes, and I think the fundamentals are going to be there for some time to come. In terms of our portfolio, we had made the strategic decision a few years ago, probably three or four years ago to exit markets that we didn\\u2019t think we could either be the number one or number two, and if we\\u2019re the number two, the ability to move to a number one position. We\\u2019ve gained category position in delivery in every one of our top 10 markets on a year-on-year basis. It\\u2019s a function of the great execution of our operations team, the technology that we\\u2019re shipping, and then the power of the platform. There\\u2019s no other global player who operates both in mobility and delivery or has as broad a platform as we do, so we\\u2019re very happy with our portfolio, so to speak, and I think the results speak for themselves.\\nPrashanth Mahendra-Rajah: Eric, as someone who\\u2019s been in the business coming up now on my one-year anniversary soon, I\\u2019m surprised--I was surprised to learn how sticky the food delivery business is. It is very habitual, and we\\u2019ve got great data that shows that stickiness is improving. I think I looked back at five, six quarters of data, and it gets better every quarter in terms of either retention, so there\\u2019s clearly the trajectory to follow what we\\u2019re seeing in mobility.\\nEric Sheridan: Appreciate it, thank you.\\nDara Khosrowshahi: You\\u2019re welcome. Next question?\\nOperator: Your next question comes from the line of Justin Post with Bank of America. Your line is open.\\nJustin Post: Thank you. I wonder if you could revisit the consumer downturn scenario. What would you expect to happen for mobility if we do have a recession or a bigger downturn as far as maybe trade down or looking for lower priced rides, the impact on bookings and profitability? Then Prashanth, maybe you could talk about--it looks like you\\u2019ve turned the corner on independent contract deals in Massachusetts and other areas. What happens to your cost when you sign those deals, and can you cover it with higher fees? What are the business model impacts of signing those deals? Thank you.\\nDara Khosrowshahi: Yes Justin, in terms of a consumer downturn scenario on mobility, we see these circumstances in a number of markets - LatAm has been through a bunch of cyclical trends, etc., and usually a downturn, the leading indicator of a downturn is a weak job market. We might be seeing it in some of the western markets, we might not - it\\u2019s very difficult to tell, but when there is a weaker job market, typically our driver supply on the mobility side significantly improves. We\\u2019re a very, very flexible work platform, average earnings per utilized hour for drivers in the U.S., for example, is $33 per utilized hour, so it\\u2019s highly flexible and the earnings per utilized hour are strong. Typically what we see is improvement in driver supply. As driver supply improves, surge comes down, ETAs improve, the service itself becomes more compelling, and as a result volumes typically turn out to be quite sticky. In addition to those trends, we are actively investing in affordability, right - the membership program essentially brings prices down for both mobility and delivery, and we\\u2019re investing in products such as two-wheelers and three-wheelers and UberX Share, all of whom provide discounts of, let\\u2019s say, 25% to 50% of, let\\u2019s say, the price of an UberX as well. We think that we can thrive in upturns and downturns, and I think that the team has proven that they have execution capability to be able to perform in any kind of market. Listen - we\\u2019re watching trends very, very closely and I do believe we\\u2019ll be able to adjust as needed. Prashanth, do you want to talk about Massachusetts?\\nPrashanth Mahendra-Rajah: Yes, I will. Justin, maybe I\\u2019ll also just start by reminding folks that we have three different broad models on how we go to market in our operating framework for folks. We have the traditional independent contractor, which is how most people think of Uber, and that is the model that the company was largely built on. Then over time, we\\u2019ve adapted to now the IC-plus model, which is what you referred to for Massachusetts, and that\\u2019s where we enter into agreements to provide some level of benefits, and then there are still some countries that we use a fleet model, where an independent company sort of handles the actual execution on the ground, and we serve as feeding them the global--or the in-country demand or the in-city demand. Specifically in Massachusetts, we reached a deal with the Attorney General that settled on a set of standards for earners that includes how we measure or how we define time on the platform, certain healthcare, family and medical leave benefits as well. As a consequence for that, the Attorney General dropped their action against Uber and we\\u2019re no longer in pursuit of a ballot issue in Massachusetts, like we had very successfully done in California. The consequence of that is we will factor that into our operating model in Massachusetts, but as we\\u2019ve said back in February at our investor day, we still have plenty of runway to focus on operational costs, so while this will be built into the cost structure that we push to the market, we continue to believe that there is plenty of runway ahead for us to continue to drive down our operating costs through the support costs and payments and a variety of other measures, that we continue to sort of grind out those basis points that will continue to make Uber an affordable option for all.\\nJustin Post: Great, thank you.\\nDara Khosrowshahi: You\\u2019re welcome. Next question, Operator?\\nOperator: Your next question comes from the line of Nikhil Devnani with Bernstein. Your line is open.\\nNikhil Devnani: Hi, thanks for taking my question. Dara, I wanted to ask a two-parter on autonomous vehicles. First, can you help us understand how much of the ride share demand takes place during peak hours, in mornings and evenings? I would imagine that utilization math around the peak is really at the core of your value prop to partners. Then second, the partnership model makes a lot of sense to us for both sides, but there is a world where providers choose not to partner, they choose to compete more directly, so my second question is around, I guess, what the Plan B is for Uber in the event the leading players choose not to extend partnerships or engage in partnerships? How do you navigate that scenario? Thank you.\\nDara Khosrowshahi: Yes, absolutely. In terms of peak and trough, while we haven\\u2019t disclosed the numbers, there are very, very significant peaks during rush hour both ways, obviously in the mornings and going home, during after-hours drinks, etc. We are able to shape demand and supply--actually, demand through surge when we need to, and supply, obviously positioning our drivers through incentives either on a temporal basis or on a geographic basis, if there\\u2019s a concert going on, etc. The good news there is that through our incentive structure, essentially those are variable costs for us. We will pay more during those peak periods and then when we don\\u2019t need supply, we can take incentives out, so we have a model where essentially we\\u2019re able to shape supply to match demand in a variable basis. I think that in an AV world, the car is there at all times, so you kind of have to pay the overhead for the car and the amortization of the car during all periods, so we think kind of hybrid network that can--that consists of both humans and robots can handle the peaks and valleys much more effectively than a pure play network. In terms of AV partnerships, etc., I would tell you, Nikhil, that based on the conversations that we\\u2019re having, we are highly, highly confident of being able to acquire AV content, if you want to call it that, on a global basis. The fact is this is not turning out to be a winner take all market - originally, I think that was the concept why Uber wanted to develop the technology itself, but every single OEM is investing in some L2 or L3 technology. If you look at some of the newer tech coming in terms of imitation learning technologies that have taken the imagination of folks through LOMs, that same technology, we believe can potentially introduce a new wave of AV through imitation learning at substantially lower capital costs that was necessary historically, so we think there are going to be many, many AV providers. If there are many, many AV providers, the marketplace--and our marketplace is by far the largest marketplace, global marketplace both for mobility, delivery, and then freight as well, the marketplace will have a very, very strong position. At this point, we don\\u2019t see any signal that a Plan B will be necessary. Also, take note that we have investments, strategic investments in a number of AV players - Aurora, we\\u2019re working with Waymo, for example, and there are other investments that we have in AV players to make sure that Plan A is the right plan going forward. So far, I\\u2019d say so good, and as I mentioned in my remarks, we will have more partnerships to announce in the next weeks and months, and I think the market will see--you\\u2019ll see that Plan B isn\\u2019t necessary.\\nNikhil Devnani: Thanks Dara.\\nDara Khosrowshahi: You\\u2019re very welcome. Next question, Operator?\\nOperator: Your next question comes from the line of John Colatuoni with Jefferies. Your line is open.\\nJohn Colatuoni: Great, thanks for taking my questions. Given the continued progress on mobility frequency, I was curious if we could go back to some disclosure you provided about a year ago, showing pre-COVID cohorts in the U.S. and Canada had lower frequency than more recent cohorts. How has mobility usage progressed across cohorts over the past year, and what does that progression tell you about the opportunity to keep driving frequency higher through multi-product adoption? Second, the $1 billion in advertising run rate suggests over 50% growth, which is really strong but a bit of a deceleration from more like 80% exiting last year. Talk about how restaurants are balancing investments in sponsored listings versus merchant-funded offerings, which you mentioned grew over 70% year-on-year in the quarter. Thanks.\\nDara Khosrowshahi: John, in terms of mobility frequency, while we\\u2019re not going to disclose specifically what frequency looks like, I would say that when we look at lower cost products, when you look at UberX Share, hailables, two-wheelers, three-wheelers, the frequency of some of the newer products is significantly higher than the frequency of, call it the X product, etc. When you look at the overall frequency numbers for both mobility and delivery, they\\u2019re up on a year-on-year basis. It is absolutely helped by multi-product usage, it is absolutely helped by membership as well, so whether you look at cohorts, whether you look at new customers, high income, low income, the frequency numbers for us in both mobility and delivery are very, very constructive. You want to talk about ads, Prashanth?\\nPrashanth Mahendra-Rajah: Sure. I think the question--your question, John, again was on merchant-funded offers, or offers in general, how are we seeing that have an impact for the business. I would tell you to think about it in two elements. First, as we\\u2019re able to drive, and we see very strong cooperation from merchants in using merchant-funded offers to drive their demand, it is actually being a very helpful way for them to address their need, to attack the affordability question that folks are asking, so that can come through a variety of different things that they\\u2019re putting onto the platform - it could be a buy one, get one, it could be if you spend a certain amount, you get a certain percentage off. We\\u2019re seeing extremely strong growth in the use of merchant-funded offers and the tech that we have is allowing them to be quite creative in how they want to apply that and when. I think that\\u2019s something that\\u2019s quite unique to us, and as a result of that, we are seeing very good support of their business growth. In a time when I think there is more macro concerns around what\\u2019s happening with some of the large enterprise customers, we are seeing our SMBs really lean in more and are seeing strong growth in this. I\\u2019d also say that when we look at the category levels that folks are shopping at on the merchant side, we\\u2019re continuing to see folks shopping at what we would have categorized as a more expensive or, I think it\\u2019s a two dollar sign category versus the single dollar sign, so we\\u2019re again seeing folks not trading down at SMBs because some of that is being supported by the RFO or the restaurant-funded offers that we are enabling them to support.\\nDara Khosrowshahi: Then just on the sponsored listings part of the business, the growth continues pretty significantly. We\\u2019re a bit over 1% of delivery gross bookings through advertising, we had a target of 2%-plus. We think that target is certainly achievable, and actually for grocery and retail, we think that the number can be well over 2% based on what we see in terms of competitors, what we see in terms of what Amazon is doing. The focus for us with sponsored listings right now is increasing the number of monetizable impressions per user session through introducing new ad formats and placements, and really increasing the monetization of search in a smart way that doesn\\u2019t hurt the core consumer experience, so we have holdout to make sure that advertising is a complement to our eater experience and at the same time is a targeted way for merchants to reach their audience. If you think about sponsored listings, sponsored listings tend to improve audience for a particular merchant, and then merchant-funded offers, because of the price nature of those offers, tends to improve conversion as well. For Uber profitability, the sponsored listings business is more profitable for Uber but we think merchant-funded offers are a very important strategic part of our drive to improve the affordability of the overall marketplace, and increasingly we\\u2019re working with merchants to be able to move money from sponsored listings to merchant-funded offers in a back and forth and a targeted way to achieve what their goals are. The team is doing a great job. We continue to invest in our sales team, and the technical teams continue to ship some pretty impressive product out there.\\nPrashanth Mahendra-Rajah: Let me give you one metric we haven\\u2019t shared before, and that is globally, restaurant-funded offers or merchant-funded offers have grown 70% year-over-year.\\nJohn Colatuoni: Thank you both.\\nDara Khosrowshahi: All right, can we get the next question? Thank you.\\nOperator: Your next question comes from the line of Ross Sandler with Barclays. Your line is open.\\nRoss Sandler: Hey guys, one more follow-up on ads. With talk about getting to 1.6% of gross bookings for ride hail ads, so I know we talk about delivery ads quite a bit, but what\\u2019s the status of your ride hail side advertising business of late? Then the letter mentioned the Instacart initial read. Can you provide a little bit more color on what you\\u2019re seeing thus far from the Instacart partnership? Thank you.\\nDara Khosrowshahi: Yes, absolutely. For mobility ads, we haven\\u2019t introduced a target in terms of the percentage of gross bookings. We are very, very sensitive to the fact that people come to Uber looking for a ride first, and to the extent that we introduce them to some of the premium brands that are advertising with us, we want to make sure that that experience is an excellent experience for the rider and also an excellent experience for the advertiser. It\\u2019s resulting in some very strong ad engagement from riders - click-through rates are over 2.5% compared to industry averages that are less than 1%, so I think for us, the focus is more on quality versus quantity, and I think that we\\u2019ll continue that focus going forward. The contribution of advertising is very, very positive in terms of newer ad formats that we are introducing, improving targeting capabilities, and then also investments in measurement and attribution for our ad partners, so we\\u2019re very, very happy with the progress here, but I don\\u2019t want to put a percent target because the experience of the rider comes first. In terms of Instacart and the trends there, we\\u2019re very encouraged by the trends there. We talked about Instacart baskets being 20% higher than our base basket sizes, and we\\u2019re seeing the demand come from a lot of suburban markets - you know, it kind of matches the Instacart geographic penetration, so we do think that the incrementality of the volume from Instacart is quite strong, and I\\u2019d say so far the partnership has been an excellent one.\\nPrashanth Mahendra-Rajah: Maybe just a reminder to folks, we only went live in the second quarter of \\u201924, where Uber Eats is live on the Instacart app, so it\\u2019s still early days. All right, can we take our final question?\\nDara Khosrowshahi: Yes, let\\u2019s do it.\\nOperator: Your final question comes from the line of Mark Mahaney with Evercore. Your line is open.\\nMark Mahaney: Okay, thanks. Two questions please. On the TAM comment, Prashanth, that you made earlier, I think you said in your top 10 markets, less than 20% penetration. My recall is that about a year ago, you\\u2019d said it was a little under 10%, so you\\u2019ve had nice growth there. Are there particular markets where you could--like, what are you lead markets, like how high have you seen that penetration go? I assume that you\\u2019re going to be able to go higher than 20%, but any clues you\\u2019ve seen in the markets that you\\u2019ve been in, that tell you how high that could go would be helpful. Then could you also talk overall about subsidies and incentives for drivers and consumers and where those are now, and is this something that\\u2019s kind of a flat line expense going forward? Is there more leverage as a percentage of bookings, or even in absolute dollars, how do you think about those incentives and subsidies going forward? Thanks a lot.\\nPrashanth Mahendra-Rajah: Yes, thanks for the question. I think a good frame of reference, or an example to help you with that TAM, if the United States was to move to the TAM penetration that we are seeing in the U.K., that\\u2019s worth another $13 billion in gross bookings, so call it 8% or so of our current run rate, just by moving the U.S. to the U.K. We know the opportunity is there. Brazil, I think is another great example where we\\u2019re seeing really explosive growth. The frequency in Brazil is a really impressive number that also I think is a great metric for how we have confidence as we continue to feed more markets and continue to expand our mobility products\\u2019 availability, reliability into more geographies. That\\u2019s going to continue to provide runway, and that sort of links into your second question, which is as we think about balancing supply and demand, I would say the overall sentiment at a global level today is that supply is in a better position than it has historically been. That may not be true in all markets, but at a global level, it is. What that allows us to do is to pivot those incentive dollars into driving demand, and one of the challenges, I think as the leadership team at Uber faces is we have so many areas that we could pivot those dollars into, and they greatly exceed our ability to fund within our financial framework that we gave you, so much of the time is spent on capital allocation to ensure that we are both making decisions that are right for the near term in terms of continuing to make sure the market is liquid, but also providing the right incentives that we need to continue to fund future growth products. I think our Teams product, as an example, which is one that we\\u2019ve launched, and I may ask Deepa to help me here with the metric, I think Teams\\u2019 user base is up--was it up 100% Deepa, am I remembering the number right? Yes, up 100%, and that\\u2019s a relatively new product that we\\u2019ve launched but that takes some investment to increase awareness about the product, but once you\\u2019ve done that--sorry, it\\u2019s trips, trips that were up, so those are the trade-offs, I think that we continue to make a decision on. This quarter, we opened up Hungary--sorry, we opened up Luxembourg, and last quarter we opened up Hungary, so we\\u2019re continuing to find new geographies as well as expanding in existing countries into new areas. Look for us to continue to make that balance while trying to stay within that great operating framework we gave you of driving mid to high teens GB growth with higher 30% to 40% EBITDA over the next three years.\\nMark Mahaney: Thank you Prashanth.\\nPrashanth Mahendra-Rajah: I think with that, we\\u2019re going to wrap the call and we\\u2019ll turn it back to you, Dara.\\nDara Khosrowshahi: Yes, thank you very much everyone for joining the call, and a huge thank you to the team at Uber. Prashanth and I and Deepa get to talk to investors about all the accomplishments and the consistent execution of the team, but it\\u2019s actually the teams on the ground, the technical teams who deliver in good markets, bad markets, uncertain markets, and we certainly wouldn\\u2019t have the kind of execution that we\\u2019ve had without everyone at Team Uber contributing, so big thank you to Team Uber.\\nPrashanth Mahendra-Rajah: And just a reminder, we\\u2019re going to be on the west coast, in Chicago, in New York, and in Europe in the coming quarters, so we\\u2019re very accessible for folks. Reach out to Deepa if you want to see us.\\nDara Khosrowshahi: Awesome. We\\u2019ll talk to you next quarter. Thank you again.\\nOperator: This concludes today\\u2019s conference call. We thank you for joining. You may now disconnect.\"\n        ],\n        \"semantic_type\": \"\",\n        \"description\": \"\"\n      }\n    }\n  ]\n}"
            }
          },
          "metadata": {}
        }
      ]
    },
    {
      "cell_type": "code",
      "source": [
        "# prompt: based on the selected widget filters above, create a new dataset. loop through that dataset and select the transcript field as text analyze sentiment analysis\n",
        "\n",
        "import ipywidgets as widgets\n",
        "from IPython.display import display, clear_output\n",
        "\n",
        "# Assuming filtered_df is available from the previous code cell\n",
        "# and contains the selected data based on widget filters.\n",
        "\n",
        "def analyze_transcripts(df):\n",
        "    \"\"\"Analyzes sentiment of transcripts in a DataFrame.\"\"\"\n",
        "\n",
        "    client = language.LanguageServiceClient()\n",
        "\n",
        "    for index, row in df.iterrows():\n",
        "        transcript = row['transcript']\n",
        "        if isinstance(transcript, str) and transcript.strip():  # Check for empty or non-string values\n",
        "            document = language.Document(\n",
        "                content=transcript,\n",
        "                type_=language.Document.Type.PLAIN_TEXT\n",
        "            )\n",
        "\n",
        "            response = client.analyze_sentiment(request={'document': document})\n",
        "            sentiment = response.document_sentiment\n",
        "\n",
        "            print(f\"--- Transcript {index + 1} ---\")\n",
        "            print(f\"  Score: {sentiment.score}\")\n",
        "            print(f\"  Magnitude: {sentiment.magnitude}\")\n",
        "            print(\"-\" * 20)\n",
        "        else:\n",
        "            print(f\"--- Transcript {index + 1} ---\")\n",
        "            print(\"  Transcript is empty or not a string, skipping analysis.\")\n",
        "            print(\"-\" * 20)\n",
        "\n",
        "# Example usage (assuming button click event):\n",
        "def on_button_clicked(b):\n",
        "    clear_output(wait=True)\n",
        "    display(ticker_dropdown, year_dropdown, quarter_dropdown, button)\n",
        "\n",
        "    selected_ticker = ticker_dropdown.value\n",
        "    selected_year = year_dropdown.value\n",
        "    selected_quarter = quarter_dropdown.value\n",
        "\n",
        "    filtered_df = df[(df['ticker'] == selected_ticker) &\n",
        "                     (df['year'] == selected_year) &\n",
        "                     (df['quarter'] == selected_quarter)]\n",
        "    display(filtered_df)\n",
        "    analyze_transcripts(filtered_df) # Call the analysis function\n",
        "\n",
        "button = widgets.Button(description=\"Filter and Analyze\")\n",
        "button.on_click(on_button_clicked)\n",
        "\n",
        "display(ticker_dropdown, year_dropdown, quarter_dropdown, button)\n"
      ],
      "metadata": {
        "id": "Zw9BCkIdyPko",
        "outputId": "846d045b-8f72-4d1f-fac0-bd54d1c9d6f3",
        "colab": {
          "base_uri": "https://localhost:8080/",
          "height": 274,
          "referenced_widgets": [
            "989f2d2ee2d746eda25f8dc80282bc7d",
            "cbbeb336eb8846e88c1392af9fbe113c",
            "6aecd24fa3784c3394204b7d96a0b63b",
            "ed0b3f521b024be3901f010db84a8e19",
            "d6c2d14b4d37481eb7494aebed477317",
            "d71983c6984f48b9bad229a082121c7f",
            "0646e5a0eb4141c2874b99af65e563f8",
            "85726a14637f4ccf9504ecbb5986503f",
            "610441babb5d45dc8f0dfeb988524a59",
            "d9d0a6b82f60474baef767fb169bdd40",
            "f5a5757352c3411da6db368a87e9cd82",
            "7c7d6647595548319783424320948c21"
          ]
        }
      },
      "execution_count": 11,
      "outputs": [
        {
          "output_type": "display_data",
          "data": {
            "text/plain": [
              "Dropdown(description='Ticker:', options=('UBER', 'ADSK', 'FTNT', 'AMAT', 'PLTR', 'AAPL', 'NVDA', 'CSCO', 'NOW'…"
            ],
            "application/vnd.jupyter.widget-view+json": {
              "version_major": 2,
              "version_minor": 0,
              "model_id": "989f2d2ee2d746eda25f8dc80282bc7d"
            }
          },
          "metadata": {}
        },
        {
          "output_type": "display_data",
          "data": {
            "text/plain": [
              "Dropdown(description='Year:', options=(2024, 2015, 2016, 2017, 2018, 2019, 2020, 2021, 2022, 2023), value=2024…"
            ],
            "application/vnd.jupyter.widget-view+json": {
              "version_major": 2,
              "version_minor": 0,
              "model_id": "ed0b3f521b024be3901f010db84a8e19"
            }
          },
          "metadata": {}
        },
        {
          "output_type": "display_data",
          "data": {
            "text/plain": [
              "Dropdown(description='Quarter:', options=('Q2', 'Q3', 'Q1', 'Q4'), value='Q2')"
            ],
            "application/vnd.jupyter.widget-view+json": {
              "version_major": 2,
              "version_minor": 0,
              "model_id": "0646e5a0eb4141c2874b99af65e563f8"
            }
          },
          "metadata": {}
        },
        {
          "output_type": "display_data",
          "data": {
            "text/plain": [
              "Button(description='Filter and Analyze', style=ButtonStyle())"
            ],
            "application/vnd.jupyter.widget-view+json": {
              "version_major": 2,
              "version_minor": 0,
              "model_id": "d9d0a6b82f60474baef767fb169bdd40"
            }
          },
          "metadata": {}
        },
        {
          "output_type": "display_data",
          "data": {
            "text/plain": [
              "  ticker  year quarter            datetime  \\\n",
              "0   UBER  2024      Q2 2024-08-06 08:00:00   \n",
              "\n",
              "                                       speakers_list  \\\n",
              "0  Ross Sandler,Prashanth Mahendra-Rajah,John Col...   \n",
              "\n",
              "                                          transcript  \n",
              "0  Operator: Thank you and welcome to the Uber Q2...  "
            ],
            "text/html": [
              "\n",
              "  <div id=\"df-c2db7a5c-cbcc-4453-8b52-4ddd7b70b3a5\" class=\"colab-df-container\">\n",
              "    <div>\n",
              "<style scoped>\n",
              "    .dataframe tbody tr th:only-of-type {\n",
              "        vertical-align: middle;\n",
              "    }\n",
              "\n",
              "    .dataframe tbody tr th {\n",
              "        vertical-align: top;\n",
              "    }\n",
              "\n",
              "    .dataframe thead th {\n",
              "        text-align: right;\n",
              "    }\n",
              "</style>\n",
              "<table border=\"1\" class=\"dataframe\">\n",
              "  <thead>\n",
              "    <tr style=\"text-align: right;\">\n",
              "      <th></th>\n",
              "      <th>ticker</th>\n",
              "      <th>year</th>\n",
              "      <th>quarter</th>\n",
              "      <th>datetime</th>\n",
              "      <th>speakers_list</th>\n",
              "      <th>transcript</th>\n",
              "    </tr>\n",
              "  </thead>\n",
              "  <tbody>\n",
              "    <tr>\n",
              "      <th>0</th>\n",
              "      <td>UBER</td>\n",
              "      <td>2024</td>\n",
              "      <td>Q2</td>\n",
              "      <td>2024-08-06 08:00:00</td>\n",
              "      <td>Ross Sandler,Prashanth Mahendra-Rajah,John Col...</td>\n",
              "      <td>Operator: Thank you and welcome to the Uber Q2...</td>\n",
              "    </tr>\n",
              "  </tbody>\n",
              "</table>\n",
              "</div>\n",
              "    <div class=\"colab-df-buttons\">\n",
              "\n",
              "  <div class=\"colab-df-container\">\n",
              "    <button class=\"colab-df-convert\" onclick=\"convertToInteractive('df-c2db7a5c-cbcc-4453-8b52-4ddd7b70b3a5')\"\n",
              "            title=\"Convert this dataframe to an interactive table.\"\n",
              "            style=\"display:none;\">\n",
              "\n",
              "  <svg xmlns=\"http://www.w3.org/2000/svg\" height=\"24px\" viewBox=\"0 -960 960 960\">\n",
              "    <path d=\"M120-120v-720h720v720H120Zm60-500h600v-160H180v160Zm220 220h160v-160H400v160Zm0 220h160v-160H400v160ZM180-400h160v-160H180v160Zm440 0h160v-160H620v160ZM180-180h160v-160H180v160Zm440 0h160v-160H620v160Z\"/>\n",
              "  </svg>\n",
              "    </button>\n",
              "\n",
              "  <style>\n",
              "    .colab-df-container {\n",
              "      display:flex;\n",
              "      gap: 12px;\n",
              "    }\n",
              "\n",
              "    .colab-df-convert {\n",
              "      background-color: #E8F0FE;\n",
              "      border: none;\n",
              "      border-radius: 50%;\n",
              "      cursor: pointer;\n",
              "      display: none;\n",
              "      fill: #1967D2;\n",
              "      height: 32px;\n",
              "      padding: 0 0 0 0;\n",
              "      width: 32px;\n",
              "    }\n",
              "\n",
              "    .colab-df-convert:hover {\n",
              "      background-color: #E2EBFA;\n",
              "      box-shadow: 0px 1px 2px rgba(60, 64, 67, 0.3), 0px 1px 3px 1px rgba(60, 64, 67, 0.15);\n",
              "      fill: #174EA6;\n",
              "    }\n",
              "\n",
              "    .colab-df-buttons div {\n",
              "      margin-bottom: 4px;\n",
              "    }\n",
              "\n",
              "    [theme=dark] .colab-df-convert {\n",
              "      background-color: #3B4455;\n",
              "      fill: #D2E3FC;\n",
              "    }\n",
              "\n",
              "    [theme=dark] .colab-df-convert:hover {\n",
              "      background-color: #434B5C;\n",
              "      box-shadow: 0px 1px 3px 1px rgba(0, 0, 0, 0.15);\n",
              "      filter: drop-shadow(0px 1px 2px rgba(0, 0, 0, 0.3));\n",
              "      fill: #FFFFFF;\n",
              "    }\n",
              "  </style>\n",
              "\n",
              "    <script>\n",
              "      const buttonEl =\n",
              "        document.querySelector('#df-c2db7a5c-cbcc-4453-8b52-4ddd7b70b3a5 button.colab-df-convert');\n",
              "      buttonEl.style.display =\n",
              "        google.colab.kernel.accessAllowed ? 'block' : 'none';\n",
              "\n",
              "      async function convertToInteractive(key) {\n",
              "        const element = document.querySelector('#df-c2db7a5c-cbcc-4453-8b52-4ddd7b70b3a5');\n",
              "        const dataTable =\n",
              "          await google.colab.kernel.invokeFunction('convertToInteractive',\n",
              "                                                    [key], {});\n",
              "        if (!dataTable) return;\n",
              "\n",
              "        const docLinkHtml = 'Like what you see? Visit the ' +\n",
              "          '<a target=\"_blank\" href=https://colab.research.google.com/notebooks/data_table.ipynb>data table notebook</a>'\n",
              "          + ' to learn more about interactive tables.';\n",
              "        element.innerHTML = '';\n",
              "        dataTable['output_type'] = 'display_data';\n",
              "        await google.colab.output.renderOutput(dataTable, element);\n",
              "        const docLink = document.createElement('div');\n",
              "        docLink.innerHTML = docLinkHtml;\n",
              "        element.appendChild(docLink);\n",
              "      }\n",
              "    </script>\n",
              "  </div>\n",
              "\n",
              "\n",
              "    </div>\n",
              "  </div>\n"
            ],
            "application/vnd.google.colaboratory.intrinsic+json": {
              "type": "dataframe",
              "summary": "{\n  \"name\": \"display(ticker_dropdown, year_dropdown, quarter_dropdown, button)\",\n  \"rows\": 1,\n  \"fields\": [\n    {\n      \"column\": \"ticker\",\n      \"properties\": {\n        \"dtype\": \"string\",\n        \"num_unique_values\": 1,\n        \"samples\": [\n          \"UBER\"\n        ],\n        \"semantic_type\": \"\",\n        \"description\": \"\"\n      }\n    },\n    {\n      \"column\": \"year\",\n      \"properties\": {\n        \"dtype\": \"Int64\",\n        \"num_unique_values\": 1,\n        \"samples\": [\n          2024\n        ],\n        \"semantic_type\": \"\",\n        \"description\": \"\"\n      }\n    },\n    {\n      \"column\": \"quarter\",\n      \"properties\": {\n        \"dtype\": \"string\",\n        \"num_unique_values\": 1,\n        \"samples\": [\n          \"Q2\"\n        ],\n        \"semantic_type\": \"\",\n        \"description\": \"\"\n      }\n    },\n    {\n      \"column\": \"datetime\",\n      \"properties\": {\n        \"dtype\": \"date\",\n        \"min\": \"2024-08-06 08:00:00\",\n        \"max\": \"2024-08-06 08:00:00\",\n        \"num_unique_values\": 1,\n        \"samples\": [\n          \"2024-08-06 08:00:00\"\n        ],\n        \"semantic_type\": \"\",\n        \"description\": \"\"\n      }\n    },\n    {\n      \"column\": \"speakers_list\",\n      \"properties\": {\n        \"dtype\": \"string\",\n        \"num_unique_values\": 1,\n        \"samples\": [\n          \"Ross Sandler,Prashanth Mahendra-Rajah,John Colatuoni,Operator,Eric Sheridan,Brian Nowak,Dara Khosrowshahi,Mark Mahaney,Nikhil Devnani,Deepa Subramanian,Justin Post,Doug Anmuth\"\n        ],\n        \"semantic_type\": \"\",\n        \"description\": \"\"\n      }\n    },\n    {\n      \"column\": \"transcript\",\n      \"properties\": {\n        \"dtype\": \"string\",\n        \"num_unique_values\": 1,\n        \"samples\": [\n          \"Operator: Thank you and welcome to the Uber Q2 2024 earnings conference call. All lines have been placed on mute to prevent any background noise. After the speakers\\u2019 remarks, there will be a question and answer session. If you would like to ask a question during this time, please press star, one on your telephone keypad. I would now like to turn the conference over to Deepa Subramanian, Vice President, Investor Relations and Corporate Finance. Please go ahead.\\nDeepa Subramanian: Thank you Operator. Thank you for joining us today, and welcome to Uber\\u2019s second quarter 2024 earnings presentation. On the call today, we have Uber CEO, Dara Khosrowshahi, and CFO Prashanth Mahendra-Rajah. During today\\u2019s call, we will present both GAAP and non-GAAP financial measures. Additional disclosures regarding these non-GAAP measures, including a reconciliation of GAAP to non-GAAP measures are included in the press release, supplemental slides, and our filings with the SEC, each of which is posted to investor.uber.com. Certain statements in this presentation and on this call are forward-looking statements. You should not place undue reliance on forward-looking statements. Actual results may differ materially from these forward-looking statements and we do not undertake any obligation to update any forward-looking statements we make today, except as required by law. For more information about factors that may cause actual results to differ materially from forward-looking statements, please refer to the press release we issued today, as well as the risks and uncertainties described in our most recent Form 10-K and in other filings made with the SEC. We published a quarterly earnings press release, prepared remarks, and supplemental slides to our Investor Relations website earlier today and we ask you to review those documents, if you haven\\u2019t already. We will open the call to questions following brief opening remarks from Dara. With that, let me hand it over to Dara.\\nDara Khosrowshahi: Thanks Deepa. Q2 was another record quarter for Uber and further demonstrated our ability to deliver profitable growth at scale. Gross bookings grew 21% on a constant currency basis, consistent with trip growth. Our audience expanded 14% while frequency grew 6%, supported by 7.4 million drivers and couriers globally. At the same time, adjusted EBITDA grew 71% year-on-year and we generated record quarterly GAAP operating income. These are super strong results that we\\u2019re proud of, but I also understand there are two big questions out there that I want to address before we head into Q&A. First, the strength of the consumer and how Uber will perform in a recession. Based on what we\\u2019re seeing today, the Uber consumer is in great shape. Our audience is bigger than ever and using our services more frequently than ever. While our consumers tend to be higher income, we\\u2019re not seeing any softness or trading down across any income cohort. Were the current macroeconomic fears to materialize, we\\u2019re confident that Uber can perform well because of the countercyclical nature of our platform. On the mobility side, more driver supply brings down prices for riders and improves reliability, and on the delivery side, merchants are investing in performance channels like ours for growth, improving selection and affordability for consumers. In fact, in Q2 the number of first-time consumers on Uber Eats in the U.S. was higher than at any point over the past five quarters. It\\u2019s clear that delivery is much more habitual than many assumed, made even more so by our Uber One membership, which now covers 50% of delivery gross bookings. We\\u2019ll continue to drive consistent top line growth while expanding GAAP operating income. Our track record of making and then exceeding our commitments should give investors confidence that we\\u2019ve built the capital discipline and operational muscle to perform well in any scenario. Second, autonomous - put simply, Uber is uniquely positioned to offer tremendous value for AV players looking to deploy their technology at scale. While the operation of a ride hail network may seem simple, our technology obscures a huge amount of complexity. We support roughly one million trips per hour and our average ETA globally is approximately four minutes. That\\u2019s possible because of marketplace tech that makes over 10 million predictions per second, and more mundanely, we handled more than 25 million lost items in just last year alone. We also know that a key factor in AV commercialization will be asset utilization. AV players will need to ensure that their expensive assets are being used as close to 24 hours a day as possible while also managing the daily and weekly peaks and valleys of ride hail activity. Uber can provide enormous demand without AV players needing to invest capital towards acquiring customers or building the marketplace tech that delivers reliability at the standard that consumers have come to expect. That\\u2019s all to say that Uber will be an indispensable partner for AV players of all sorts. We\\u2019re in late stage discussions with additional global AV players to join our platform and will have more announcements in the coming weeks and months. Thanks to the Uber team for another great quarter. With that, Operator, let\\u2019s open the call for questions.\\nOperator: Thank you. [Operator instructions] Your first question comes from the line of Brian Nowak with Morgan Stanley. Your line is open.\\nBrian Nowak: Thanks for taking my questions. I have two, the first one is on AV. Dara, I appreciate the color, and even the extra color in the press release. My question is, is there any more detail on what you\\u2019re seeing in Arizona around incrementality of rides from the partnership? How do we think about sort of the relative unit economics, and philosophically, what is your strategy of reinvesting dollars to sort of drive more AV growth versus delivering profitability? Then the second one on mobility specifically, can you talk to us just a little bit on what you\\u2019re seeing on mobility MAPC versus frequency growth drivers, just [indiscernible] or break apart what\\u2019s driving that growth in the quarter for mobility? Thanks.\\nDara Khosrowshahi: Sure, absolutely Brian, thanks for the question. I don\\u2019t want to speak specifically to Arizona because obviously we have Waymo as a partner there, and I want to hold confidentiality, etc. as any partner should. But when we look more broadly at our operations with the various AV players that we see, what we do see is that the utilization that these AV players are able to develop on our network is significantly higher than the utilization we believe that they\\u2019re able to run out without [indiscernible] basis, so 3P utilization is significantly higher than 1P utilization. If you think about the role of the marketplace, the role of the marketplace is to drive utilization of fixed assets. I mean, in the end, it\\u2019s why a McDonald\\u2019s or a Starbucks or even Dominos now works with us - they have direct channels to consumers, but they also work through the marketplace to bring more demand to their stores, so to speak, and we think the same will be true of AV players, which is as long as we\\u2019re able to drive higher utilization and the utilization that we drive, the incrementality we think significantly exceeds the take rate that we will charge on average for mobility. Not including insurance costs, our global take rate is around 20%, so you\\u2019d have to drive 25% increasing utilization. We believe that those utilization numbers are possible and we think that we can exceed those kinds of utilization numbers. Right now, the economics and the math are definitely working. I think the additional benefit that we bring to these players is we have a dynamic dispatch model that can determine what are the pick-ups and drop-offs that an autonomous player can effectively play with - you know, the pick-up point is easy, it\\u2019s within a block, same thing with the drop-off points, and then what are the circumstances when we should dispatch a human for a particular pick-up or a drop-off, if the route is complex or the pick-up or drop-off has some special circumstances. We\\u2019re able to essentially allow autonomous players to dispatch in situations where we know that they will succeed, so all in all the early data is quite encouraging, and as I said, we\\u2019ve had lots of discussions with other players out there. We don\\u2019t think this will be a win or take all market, and we think that we will continue to have the most liquid and largest marketplace that will be--that will have humans and AV players as part of it during this pretty long hybrid period, as autonomous is development and regulators are trying to figure out exactly how to regulate it. Prashanth, do you want to take the second one?\\nPrashanth Mahendra-Rajah: I will, thanks Dara. I think, Brian, your question was on mobility growth, so maybe I\\u2019ll start with just restating how we did for Q2 and our outlook for Q3. For Q2, the results that we printed, if you do it at a constant currency, very strong at 27% year-over-year growth. For Q3, we\\u2019re looking for sort of a repeat in that mid-20s range, again on a constant currency basis. But when you dig into why do we have such confidence in the mobility business, I would take you back to the framework we talked about in February, that mobility over the three years that we gave you should be growing at the mid-teens or better, and that\\u2019s coming from a couple items. On the user side, we still believe that we have a pretty massive TAM that we can go after. We\\u2019re continuing to drive product innovation, and we talked about a couple of those at Go Get earlier this year, and we\\u2019re continuing to find new demographics in areas to continue to expand in. Maybe one data point on TAM that I think is helpful for folks is our monthly penetration of consumers, and we define that as folks who are over 18 years, is less than 20% across our top 10 countries, so a lot of room to run there. Another key driver will be frequency, which I think folks understand to be how our monthly active--how many times our monthly actives engage with the platform. We are launching new products, continuing to improve reliability so that when you call for an Uber, we\\u2019re able to get you one at a time that you\\u2019re looking for, and of course the benefits of membership. Only about half of our riders take one to two trips per month, so again plenty of upside there to continue to drive this as a more frequent daily use case.\\nDara Khosrowshahi: Then Brian, I think you had asked about our strategy to reinvest to drive, let\\u2019s say, AV growth versus profits. Generally we are able to lean into our newer products, so for example if you look at moto, which are two wheelers in Latin America and a number of developing countries, if you look at our shared product, UberX Share, where we get more than one passenger in a vehicle, or even taxis, those newer products are growing faster than the base business and their margins are substantially lower than the base business, but we\\u2019re able to-- as we scale, we\\u2019re able to leverage our cost base, our technology improvements in terms of targeting, in terms of CPT all allow us to have a profit envelope to be able to be reinvest into our newer products - AV is one of those new products, while overall increasing profit margins. This is something that we\\u2019ve been doing for years, and we think AV will be part of the same equation. I don\\u2019t--you know, AV is not something that we\\u2019re going to look to make substantial profits from over the next five to 10 years, and that\\u2019s just fine because we\\u2019ll be able to build a lot of liquidity in the marketplace to continue on the path that we have been operating in over the past five years.\\nBrian Nowak: Great, thank you both.\\nDara Khosrowshahi: You\\u2019re welcome. Next question?\\nOperator: Your next question comes from the line of Doug Anmuth with JP Morgan. Your line is open.\\nDoug Anmuth: Thanks so much for taking the questions. Dara, can you just talk more about the importance of the BYD partnership as you bring new EVs into global markets, and then perhaps how that can tie into AV over time? Then Prashanth, just if you could talk more about the drivers of delivery profitability - good upside there in the quarter, and what gives you the confidence on the clear path to EBITDA profit in grocery and retail as well? Thank you.\\nDara Khosrowshahi: Yes, absolutely Doug. I\\u2019ll start with BYD. The electrification of our fleet is an incredibly important initiative for us. We are--if you look at Uber, Uber drivers are switching over to electric at five times the speed that normal drivers are, and if there\\u2019s any driver that you want to switch over to EVs, it\\u2019s an Uber driver because Uber drivers also drive around five times the miles of a regular driver as well, so it\\u2019s a very targeted segment that we\\u2019re going after and we\\u2019re hoping that governments can help us go after as well. The number one reason why some drivers hesitate to move over to EVs is affordability, and the fact is that BYD, when you look at cost and quality, BYD is really second to none in terms of any manufacturer out there. We\\u2019re very, very excited with the partnership. We are--we believe we\\u2019re going to bring over 100,000 new BYD EVs onto the Uber platform across some of our most important global markets out there, and we\\u2019ve always talked about climate being a team sport, we are going to be leaders in terms of climate change, and having BYD as a partner is just terrific to see. More recently, BYD has committed to very, very significant investments in the AV space, and judging from what they have accomplished in the EV space, I would not--I would make a bet on them in AV as well. But the investment that they\\u2019re making in AV is in the billions and we\\u2019re very much looking forward to partnering with them on both EVs and AVs. Prashanth?\\nPrashanth Mahendra-Rajah: Yes, so I think your question was on delivery profitability. Although we don\\u2019t--we don\\u2019t want to draw attention to incremental margins, we did have a pretty terrific quarter for incremental margins in delivery - 10% for the second quarter, so putting a little context around that. We are clearly seeing the benefits of scale as it runs through the delivery business and we still have many levers that we\\u2019re continuing to tune to drive that profitability in delivery. That includes some incredible tech that the team has built that continues to drive down the cost per transaction--cost per trip in terms of operational improvements. We\\u2019ve got great improvements in advertising - I think we mentioned in the prepared remarks that\\u2019s now running in excess of a billion dollars on a run rate basis, and continuing to find ways, both operationally and with tech, to reduce some of our other costs like refunds and appeasements, which are still a bit of a drag on the delivery segment. You know, the fact that we were able to grow delivery profitability while continuing to have very strong growth in grocery really is a good indicator of how much strong growth we\\u2019re seeing in that profitability. I think delivery EBITDA was up by 25 basis points sequentially, and that is despite grocery growing at a substantially faster rate than delivery. In grocery profitability, it\\u2019s what we\\u2019ve talked about in the past - you know, using the power of the platform, we can bring down the customer acquisition cost and drive those cost efficiencies. We\\u2019ve got 15% of our Eats customers are now using grocery - that\\u2019s up about 200 basis points year-over-year as of middle of the year, and we\\u2019re seeing retention on grocery also improving. I mentioned the ads revenue, and then also starting--given that our selection\\u2019s improving, we\\u2019re also driving down consumer promotions and continuing to add more and more merchants onto the platform - we mentioned Costco, and I think in the press release or prepared remarks, we also mentioned a couple other grocers. All in all, things are on track to where we gave you in our three-year model, and grocery is continuing to be a strong story for our delivery business.\\nDara Khosrowshahi: Just one very encouraging trend on grocery and retail is that ad spend on grocery and retail has more than tripled on a year-on-year basis - obviously that\\u2019s very high margin product, and we are continuing to expand our CPG product now into a bunch of new countries, so the momentum there is terrific to see.\\nOperator: Your next question comes from the line of Eric Sheridan with Goldman Sachs. Your line is open.\\nEric Sheridan: Thanks so much for taking the questions. Maybe two, if I could, coming back to the delivery business. Building on the last set of comments, how do you think about the potential longer term for increased utility, increased frequency as you layer more supply into the delivery network, and what you continue to learn about the relationship of evolving the experience for consumers and what it means for platform growth over a longer period of time? Then also on the delivery side, we\\u2019ve seen a lot of market consolidation and market rationalization in some of the countries around the globe. How do you think about the asset portfolio on delivery and your current marketing positioning against some of those industry dynamics you\\u2019re seeing on the capital side? Thanks so much.\\nDara Khosrowshahi: Yes Eric, so what we\\u2019re seeing in terms of delivery is the long term growth is incredibly promising, and especially our ability to expand into the adjacent category of grocery and retail. The grocery and retail TAM is actually bigger than the online food delivery TAM, so not only do we believe we\\u2019ve got a long runway in online food delivery but we\\u2019re just getting started as it relates to grocery and retail. We now have 1.1 million merchants on the platform - that\\u2019s up 13%. Our merchant penetration in most countries still is very low, well under 50%, and every time we add a merchant, because we have more diversity of choice, average conversion tends to improve for consumers who are kind of searching for their favorite restaurant or favorite dessert place, and each merchant gives us actually another item to market against as it relates to search engine optimization or search engine marketing in third party channels as well. So new merchants add conversion, choice, and actually are another item to market against, and we\\u2019re a very, very long way in terms of full merchant penetration in the marketplace. It all results in either retention being up globally in every single mega region just in June on a year-on-year basis, so right now we believe there\\u2019s a very, very long runway for growth. The more consumers use our products in a multi-product way, whether it\\u2019s a mobility user using delivery or a delivery user buying from grocery and retail, the more they transact on the platform, multi-product consumers spend three times more than single product consumers, and for us, the more products we add to the marketplace, the more this benefit adds onto it, and then on top of that, you add our membership product as well, which is now over 50% of bookings. The volumes are strong, we are not having to buy our way into strong volumes, we\\u2019re kind of earning our way into strong volumes, and I think the fundamentals are going to be there for some time to come. In terms of our portfolio, we had made the strategic decision a few years ago, probably three or four years ago to exit markets that we didn\\u2019t think we could either be the number one or number two, and if we\\u2019re the number two, the ability to move to a number one position. We\\u2019ve gained category position in delivery in every one of our top 10 markets on a year-on-year basis. It\\u2019s a function of the great execution of our operations team, the technology that we\\u2019re shipping, and then the power of the platform. There\\u2019s no other global player who operates both in mobility and delivery or has as broad a platform as we do, so we\\u2019re very happy with our portfolio, so to speak, and I think the results speak for themselves.\\nPrashanth Mahendra-Rajah: Eric, as someone who\\u2019s been in the business coming up now on my one-year anniversary soon, I\\u2019m surprised--I was surprised to learn how sticky the food delivery business is. It is very habitual, and we\\u2019ve got great data that shows that stickiness is improving. I think I looked back at five, six quarters of data, and it gets better every quarter in terms of either retention, so there\\u2019s clearly the trajectory to follow what we\\u2019re seeing in mobility.\\nEric Sheridan: Appreciate it, thank you.\\nDara Khosrowshahi: You\\u2019re welcome. Next question?\\nOperator: Your next question comes from the line of Justin Post with Bank of America. Your line is open.\\nJustin Post: Thank you. I wonder if you could revisit the consumer downturn scenario. What would you expect to happen for mobility if we do have a recession or a bigger downturn as far as maybe trade down or looking for lower priced rides, the impact on bookings and profitability? Then Prashanth, maybe you could talk about--it looks like you\\u2019ve turned the corner on independent contract deals in Massachusetts and other areas. What happens to your cost when you sign those deals, and can you cover it with higher fees? What are the business model impacts of signing those deals? Thank you.\\nDara Khosrowshahi: Yes Justin, in terms of a consumer downturn scenario on mobility, we see these circumstances in a number of markets - LatAm has been through a bunch of cyclical trends, etc., and usually a downturn, the leading indicator of a downturn is a weak job market. We might be seeing it in some of the western markets, we might not - it\\u2019s very difficult to tell, but when there is a weaker job market, typically our driver supply on the mobility side significantly improves. We\\u2019re a very, very flexible work platform, average earnings per utilized hour for drivers in the U.S., for example, is $33 per utilized hour, so it\\u2019s highly flexible and the earnings per utilized hour are strong. Typically what we see is improvement in driver supply. As driver supply improves, surge comes down, ETAs improve, the service itself becomes more compelling, and as a result volumes typically turn out to be quite sticky. In addition to those trends, we are actively investing in affordability, right - the membership program essentially brings prices down for both mobility and delivery, and we\\u2019re investing in products such as two-wheelers and three-wheelers and UberX Share, all of whom provide discounts of, let\\u2019s say, 25% to 50% of, let\\u2019s say, the price of an UberX as well. We think that we can thrive in upturns and downturns, and I think that the team has proven that they have execution capability to be able to perform in any kind of market. Listen - we\\u2019re watching trends very, very closely and I do believe we\\u2019ll be able to adjust as needed. Prashanth, do you want to talk about Massachusetts?\\nPrashanth Mahendra-Rajah: Yes, I will. Justin, maybe I\\u2019ll also just start by reminding folks that we have three different broad models on how we go to market in our operating framework for folks. We have the traditional independent contractor, which is how most people think of Uber, and that is the model that the company was largely built on. Then over time, we\\u2019ve adapted to now the IC-plus model, which is what you referred to for Massachusetts, and that\\u2019s where we enter into agreements to provide some level of benefits, and then there are still some countries that we use a fleet model, where an independent company sort of handles the actual execution on the ground, and we serve as feeding them the global--or the in-country demand or the in-city demand. Specifically in Massachusetts, we reached a deal with the Attorney General that settled on a set of standards for earners that includes how we measure or how we define time on the platform, certain healthcare, family and medical leave benefits as well. As a consequence for that, the Attorney General dropped their action against Uber and we\\u2019re no longer in pursuit of a ballot issue in Massachusetts, like we had very successfully done in California. The consequence of that is we will factor that into our operating model in Massachusetts, but as we\\u2019ve said back in February at our investor day, we still have plenty of runway to focus on operational costs, so while this will be built into the cost structure that we push to the market, we continue to believe that there is plenty of runway ahead for us to continue to drive down our operating costs through the support costs and payments and a variety of other measures, that we continue to sort of grind out those basis points that will continue to make Uber an affordable option for all.\\nJustin Post: Great, thank you.\\nDara Khosrowshahi: You\\u2019re welcome. Next question, Operator?\\nOperator: Your next question comes from the line of Nikhil Devnani with Bernstein. Your line is open.\\nNikhil Devnani: Hi, thanks for taking my question. Dara, I wanted to ask a two-parter on autonomous vehicles. First, can you help us understand how much of the ride share demand takes place during peak hours, in mornings and evenings? I would imagine that utilization math around the peak is really at the core of your value prop to partners. Then second, the partnership model makes a lot of sense to us for both sides, but there is a world where providers choose not to partner, they choose to compete more directly, so my second question is around, I guess, what the Plan B is for Uber in the event the leading players choose not to extend partnerships or engage in partnerships? How do you navigate that scenario? Thank you.\\nDara Khosrowshahi: Yes, absolutely. In terms of peak and trough, while we haven\\u2019t disclosed the numbers, there are very, very significant peaks during rush hour both ways, obviously in the mornings and going home, during after-hours drinks, etc. We are able to shape demand and supply--actually, demand through surge when we need to, and supply, obviously positioning our drivers through incentives either on a temporal basis or on a geographic basis, if there\\u2019s a concert going on, etc. The good news there is that through our incentive structure, essentially those are variable costs for us. We will pay more during those peak periods and then when we don\\u2019t need supply, we can take incentives out, so we have a model where essentially we\\u2019re able to shape supply to match demand in a variable basis. I think that in an AV world, the car is there at all times, so you kind of have to pay the overhead for the car and the amortization of the car during all periods, so we think kind of hybrid network that can--that consists of both humans and robots can handle the peaks and valleys much more effectively than a pure play network. In terms of AV partnerships, etc., I would tell you, Nikhil, that based on the conversations that we\\u2019re having, we are highly, highly confident of being able to acquire AV content, if you want to call it that, on a global basis. The fact is this is not turning out to be a winner take all market - originally, I think that was the concept why Uber wanted to develop the technology itself, but every single OEM is investing in some L2 or L3 technology. If you look at some of the newer tech coming in terms of imitation learning technologies that have taken the imagination of folks through LOMs, that same technology, we believe can potentially introduce a new wave of AV through imitation learning at substantially lower capital costs that was necessary historically, so we think there are going to be many, many AV providers. If there are many, many AV providers, the marketplace--and our marketplace is by far the largest marketplace, global marketplace both for mobility, delivery, and then freight as well, the marketplace will have a very, very strong position. At this point, we don\\u2019t see any signal that a Plan B will be necessary. Also, take note that we have investments, strategic investments in a number of AV players - Aurora, we\\u2019re working with Waymo, for example, and there are other investments that we have in AV players to make sure that Plan A is the right plan going forward. So far, I\\u2019d say so good, and as I mentioned in my remarks, we will have more partnerships to announce in the next weeks and months, and I think the market will see--you\\u2019ll see that Plan B isn\\u2019t necessary.\\nNikhil Devnani: Thanks Dara.\\nDara Khosrowshahi: You\\u2019re very welcome. Next question, Operator?\\nOperator: Your next question comes from the line of John Colatuoni with Jefferies. Your line is open.\\nJohn Colatuoni: Great, thanks for taking my questions. Given the continued progress on mobility frequency, I was curious if we could go back to some disclosure you provided about a year ago, showing pre-COVID cohorts in the U.S. and Canada had lower frequency than more recent cohorts. How has mobility usage progressed across cohorts over the past year, and what does that progression tell you about the opportunity to keep driving frequency higher through multi-product adoption? Second, the $1 billion in advertising run rate suggests over 50% growth, which is really strong but a bit of a deceleration from more like 80% exiting last year. Talk about how restaurants are balancing investments in sponsored listings versus merchant-funded offerings, which you mentioned grew over 70% year-on-year in the quarter. Thanks.\\nDara Khosrowshahi: John, in terms of mobility frequency, while we\\u2019re not going to disclose specifically what frequency looks like, I would say that when we look at lower cost products, when you look at UberX Share, hailables, two-wheelers, three-wheelers, the frequency of some of the newer products is significantly higher than the frequency of, call it the X product, etc. When you look at the overall frequency numbers for both mobility and delivery, they\\u2019re up on a year-on-year basis. It is absolutely helped by multi-product usage, it is absolutely helped by membership as well, so whether you look at cohorts, whether you look at new customers, high income, low income, the frequency numbers for us in both mobility and delivery are very, very constructive. You want to talk about ads, Prashanth?\\nPrashanth Mahendra-Rajah: Sure. I think the question--your question, John, again was on merchant-funded offers, or offers in general, how are we seeing that have an impact for the business. I would tell you to think about it in two elements. First, as we\\u2019re able to drive, and we see very strong cooperation from merchants in using merchant-funded offers to drive their demand, it is actually being a very helpful way for them to address their need, to attack the affordability question that folks are asking, so that can come through a variety of different things that they\\u2019re putting onto the platform - it could be a buy one, get one, it could be if you spend a certain amount, you get a certain percentage off. We\\u2019re seeing extremely strong growth in the use of merchant-funded offers and the tech that we have is allowing them to be quite creative in how they want to apply that and when. I think that\\u2019s something that\\u2019s quite unique to us, and as a result of that, we are seeing very good support of their business growth. In a time when I think there is more macro concerns around what\\u2019s happening with some of the large enterprise customers, we are seeing our SMBs really lean in more and are seeing strong growth in this. I\\u2019d also say that when we look at the category levels that folks are shopping at on the merchant side, we\\u2019re continuing to see folks shopping at what we would have categorized as a more expensive or, I think it\\u2019s a two dollar sign category versus the single dollar sign, so we\\u2019re again seeing folks not trading down at SMBs because some of that is being supported by the RFO or the restaurant-funded offers that we are enabling them to support.\\nDara Khosrowshahi: Then just on the sponsored listings part of the business, the growth continues pretty significantly. We\\u2019re a bit over 1% of delivery gross bookings through advertising, we had a target of 2%-plus. We think that target is certainly achievable, and actually for grocery and retail, we think that the number can be well over 2% based on what we see in terms of competitors, what we see in terms of what Amazon is doing. The focus for us with sponsored listings right now is increasing the number of monetizable impressions per user session through introducing new ad formats and placements, and really increasing the monetization of search in a smart way that doesn\\u2019t hurt the core consumer experience, so we have holdout to make sure that advertising is a complement to our eater experience and at the same time is a targeted way for merchants to reach their audience. If you think about sponsored listings, sponsored listings tend to improve audience for a particular merchant, and then merchant-funded offers, because of the price nature of those offers, tends to improve conversion as well. For Uber profitability, the sponsored listings business is more profitable for Uber but we think merchant-funded offers are a very important strategic part of our drive to improve the affordability of the overall marketplace, and increasingly we\\u2019re working with merchants to be able to move money from sponsored listings to merchant-funded offers in a back and forth and a targeted way to achieve what their goals are. The team is doing a great job. We continue to invest in our sales team, and the technical teams continue to ship some pretty impressive product out there.\\nPrashanth Mahendra-Rajah: Let me give you one metric we haven\\u2019t shared before, and that is globally, restaurant-funded offers or merchant-funded offers have grown 70% year-over-year.\\nJohn Colatuoni: Thank you both.\\nDara Khosrowshahi: All right, can we get the next question? Thank you.\\nOperator: Your next question comes from the line of Ross Sandler with Barclays. Your line is open.\\nRoss Sandler: Hey guys, one more follow-up on ads. With talk about getting to 1.6% of gross bookings for ride hail ads, so I know we talk about delivery ads quite a bit, but what\\u2019s the status of your ride hail side advertising business of late? Then the letter mentioned the Instacart initial read. Can you provide a little bit more color on what you\\u2019re seeing thus far from the Instacart partnership? Thank you.\\nDara Khosrowshahi: Yes, absolutely. For mobility ads, we haven\\u2019t introduced a target in terms of the percentage of gross bookings. We are very, very sensitive to the fact that people come to Uber looking for a ride first, and to the extent that we introduce them to some of the premium brands that are advertising with us, we want to make sure that that experience is an excellent experience for the rider and also an excellent experience for the advertiser. It\\u2019s resulting in some very strong ad engagement from riders - click-through rates are over 2.5% compared to industry averages that are less than 1%, so I think for us, the focus is more on quality versus quantity, and I think that we\\u2019ll continue that focus going forward. The contribution of advertising is very, very positive in terms of newer ad formats that we are introducing, improving targeting capabilities, and then also investments in measurement and attribution for our ad partners, so we\\u2019re very, very happy with the progress here, but I don\\u2019t want to put a percent target because the experience of the rider comes first. In terms of Instacart and the trends there, we\\u2019re very encouraged by the trends there. We talked about Instacart baskets being 20% higher than our base basket sizes, and we\\u2019re seeing the demand come from a lot of suburban markets - you know, it kind of matches the Instacart geographic penetration, so we do think that the incrementality of the volume from Instacart is quite strong, and I\\u2019d say so far the partnership has been an excellent one.\\nPrashanth Mahendra-Rajah: Maybe just a reminder to folks, we only went live in the second quarter of \\u201924, where Uber Eats is live on the Instacart app, so it\\u2019s still early days. All right, can we take our final question?\\nDara Khosrowshahi: Yes, let\\u2019s do it.\\nOperator: Your final question comes from the line of Mark Mahaney with Evercore. Your line is open.\\nMark Mahaney: Okay, thanks. Two questions please. On the TAM comment, Prashanth, that you made earlier, I think you said in your top 10 markets, less than 20% penetration. My recall is that about a year ago, you\\u2019d said it was a little under 10%, so you\\u2019ve had nice growth there. Are there particular markets where you could--like, what are you lead markets, like how high have you seen that penetration go? I assume that you\\u2019re going to be able to go higher than 20%, but any clues you\\u2019ve seen in the markets that you\\u2019ve been in, that tell you how high that could go would be helpful. Then could you also talk overall about subsidies and incentives for drivers and consumers and where those are now, and is this something that\\u2019s kind of a flat line expense going forward? Is there more leverage as a percentage of bookings, or even in absolute dollars, how do you think about those incentives and subsidies going forward? Thanks a lot.\\nPrashanth Mahendra-Rajah: Yes, thanks for the question. I think a good frame of reference, or an example to help you with that TAM, if the United States was to move to the TAM penetration that we are seeing in the U.K., that\\u2019s worth another $13 billion in gross bookings, so call it 8% or so of our current run rate, just by moving the U.S. to the U.K. We know the opportunity is there. Brazil, I think is another great example where we\\u2019re seeing really explosive growth. The frequency in Brazil is a really impressive number that also I think is a great metric for how we have confidence as we continue to feed more markets and continue to expand our mobility products\\u2019 availability, reliability into more geographies. That\\u2019s going to continue to provide runway, and that sort of links into your second question, which is as we think about balancing supply and demand, I would say the overall sentiment at a global level today is that supply is in a better position than it has historically been. That may not be true in all markets, but at a global level, it is. What that allows us to do is to pivot those incentive dollars into driving demand, and one of the challenges, I think as the leadership team at Uber faces is we have so many areas that we could pivot those dollars into, and they greatly exceed our ability to fund within our financial framework that we gave you, so much of the time is spent on capital allocation to ensure that we are both making decisions that are right for the near term in terms of continuing to make sure the market is liquid, but also providing the right incentives that we need to continue to fund future growth products. I think our Teams product, as an example, which is one that we\\u2019ve launched, and I may ask Deepa to help me here with the metric, I think Teams\\u2019 user base is up--was it up 100% Deepa, am I remembering the number right? Yes, up 100%, and that\\u2019s a relatively new product that we\\u2019ve launched but that takes some investment to increase awareness about the product, but once you\\u2019ve done that--sorry, it\\u2019s trips, trips that were up, so those are the trade-offs, I think that we continue to make a decision on. This quarter, we opened up Hungary--sorry, we opened up Luxembourg, and last quarter we opened up Hungary, so we\\u2019re continuing to find new geographies as well as expanding in existing countries into new areas. Look for us to continue to make that balance while trying to stay within that great operating framework we gave you of driving mid to high teens GB growth with higher 30% to 40% EBITDA over the next three years.\\nMark Mahaney: Thank you Prashanth.\\nPrashanth Mahendra-Rajah: I think with that, we\\u2019re going to wrap the call and we\\u2019ll turn it back to you, Dara.\\nDara Khosrowshahi: Yes, thank you very much everyone for joining the call, and a huge thank you to the team at Uber. Prashanth and I and Deepa get to talk to investors about all the accomplishments and the consistent execution of the team, but it\\u2019s actually the teams on the ground, the technical teams who deliver in good markets, bad markets, uncertain markets, and we certainly wouldn\\u2019t have the kind of execution that we\\u2019ve had without everyone at Team Uber contributing, so big thank you to Team Uber.\\nPrashanth Mahendra-Rajah: And just a reminder, we\\u2019re going to be on the west coast, in Chicago, in New York, and in Europe in the coming quarters, so we\\u2019re very accessible for folks. Reach out to Deepa if you want to see us.\\nDara Khosrowshahi: Awesome. We\\u2019ll talk to you next quarter. Thank you again.\\nOperator: This concludes today\\u2019s conference call. We thank you for joining. You may now disconnect.\"\n        ],\n        \"semantic_type\": \"\",\n        \"description\": \"\"\n      }\n    }\n  ]\n}"
            }
          },
          "metadata": {}
        },
        {
          "output_type": "stream",
          "name": "stdout",
          "text": [
            "--- Transcript 1 ---\n",
            "  Score: 0.20000000298023224\n",
            "  Magnitude: 112.19999694824219\n",
            "--------------------\n"
          ]
        }
      ]
    },
    {
      "cell_type": "code",
      "execution_count": 9,
      "metadata": {
        "id": "M9mzah76Y0gl",
        "outputId": "5e869d7a-b710-4287-e104-0da37ebcefc3",
        "colab": {
          "base_uri": "https://localhost:8080/",
          "height": 259
        }
      },
      "outputs": [
        {
          "output_type": "stream",
          "name": "stdout",
          "text": [
            "At sentence level:\n"
          ]
        },
        {
          "output_type": "display_data",
          "data": {
            "text/plain": [
              "<pandas.io.formats.style.Styler at 0x79794cee9c50>"
            ],
            "text/html": [
              "<style type=\"text/css\">\n",
              "#T_43257 th {\n",
              "  text-align: center;\n",
              "}\n",
              "#T_43257_row0_col1, #T_43257_row1_col1, #T_43257_row2_col1 {\n",
              "  text-align: left;\n",
              "}\n",
              "</style>\n",
              "<table id=\"T_43257\" class=\"dataframe\">\n",
              "  <thead>\n",
              "    <tr>\n",
              "      <th id=\"T_43257_level0_col0\" class=\"col_heading level0 col0\" >score</th>\n",
              "      <th id=\"T_43257_level0_col1\" class=\"col_heading level0 col1\" >sentence</th>\n",
              "    </tr>\n",
              "  </thead>\n",
              "  <tbody>\n",
              "    <tr>\n",
              "      <td id=\"T_43257_row0_col0\" class=\"data row0 col0\" >+0.8</td>\n",
              "      <td id=\"T_43257_row0_col1\" class=\"data row0 col1\" >Python is a very readable language, which makes it easy to understand and maintain code.</td>\n",
              "    </tr>\n",
              "    <tr>\n",
              "      <td id=\"T_43257_row1_col0\" class=\"data row1 col0\" >+0.9</td>\n",
              "      <td id=\"T_43257_row1_col1\" class=\"data row1 col1\" >It's simple, very flexible, easy to learn, and suitable for a wide variety of tasks.</td>\n",
              "    </tr>\n",
              "    <tr>\n",
              "      <td id=\"T_43257_row2_col0\" class=\"data row2 col0\" >-0.4</td>\n",
              "      <td id=\"T_43257_row2_col1\" class=\"data row2 col1\" >One disadvantage is its speed: it's not as fast as some other programming languages.</td>\n",
              "    </tr>\n",
              "  </tbody>\n",
              "</table>\n"
            ]
          },
          "metadata": {}
        },
        {
          "output_type": "stream",
          "name": "stdout",
          "text": [
            "\n",
            "At document level:\n"
          ]
        },
        {
          "output_type": "display_data",
          "data": {
            "text/plain": [
              "<pandas.io.formats.style.Styler at 0x79794cee9c50>"
            ],
            "text/html": [
              "<style type=\"text/css\">\n",
              "#T_6d85f th {\n",
              "  text-align: center;\n",
              "}\n",
              "#T_6d85f_row0_col2 {\n",
              "  text-align: left;\n",
              "}\n",
              "</style>\n",
              "<table id=\"T_6d85f\" class=\"dataframe\">\n",
              "  <thead>\n",
              "    <tr>\n",
              "      <th id=\"T_6d85f_level0_col0\" class=\"col_heading level0 col0\" >score</th>\n",
              "      <th id=\"T_6d85f_level0_col1\" class=\"col_heading level0 col1\" >magnitude</th>\n",
              "      <th id=\"T_6d85f_level0_col2\" class=\"col_heading level0 col2\" >language</th>\n",
              "    </tr>\n",
              "  </thead>\n",
              "  <tbody>\n",
              "    <tr>\n",
              "      <td id=\"T_6d85f_row0_col0\" class=\"data row0 col0\" >+0.4</td>\n",
              "      <td id=\"T_6d85f_row0_col1\" class=\"data row0 col1\" >2.2</td>\n",
              "      <td id=\"T_6d85f_row0_col2\" class=\"data row0 col2\" >en</td>\n",
              "    </tr>\n",
              "  </tbody>\n",
              "</table>\n"
            ]
          },
          "metadata": {}
        }
      ],
      "source": [
        "# Input\n",
        "text = \"Python is a very readable language, which makes it easy to understand and maintain code. It's simple, very flexible, easy to learn, and suitable for a wide variety of tasks. One disadvantage is its speed: it's not as fast as some other programming languages.\"  # @param {type:\"string\"}\n",
        "\n",
        "# Send a request to the API\n",
        "analyze_sentiment_response = analyze_text_sentiment(text)\n",
        "\n",
        "# Show the results\n",
        "show_text_sentiment(analyze_sentiment_response)"
      ]
    },
    {
      "cell_type": "markdown",
      "metadata": {
        "id": "7hU8WO15c0jn"
      },
      "source": [
        "Notes:\n",
        "\n",
        "- For information on which languages are supported by the Natural Language API, see [Language Support](https://cloud.google.com/natural-language/docs/languages#sentiment_analysis).\n",
        "- The `score` of the sentiment ranges between -1.0 (negative) and 1.0 (positive) and corresponds to the overall sentiment from the given information.\n",
        "- The `magnitude` of the sentiment ranges from 0.0 to +infinity and indicates the overall strength of sentiment from the given information. The more information provided, the higher the magnitude.\n",
        "- For more information on how to interpret the `score` and `magnitude` sentiment values included in the analysis, see [Interpreting sentiment analysis values](https://cloud.google.com/natural-language/docs/basics#interpreting_sentiment_analysis_values).\n",
        "- Each API response returns the document automatically-detected language (in ISO-639-1). It is shown here and will be skipped in the next analysis examples.\n"
      ]
    },
    {
      "cell_type": "markdown",
      "metadata": {
        "id": "HHY_gesZdrM1"
      },
      "source": [
        "---\n",
        "\n",
        "## 2️⃣ Entity analysis\n",
        "\n",
        "Entity analysis inspects the given text for known entities (proper nouns such as public figures, landmarks, etc.), and returns information about those entities. It is performed with the `analyze_entities` method which returns an `AnalyzeEntitiesResponse`.\n"
      ]
    },
    {
      "cell_type": "code",
      "execution_count": 12,
      "metadata": {
        "id": "6NOJl4LQdrM8"
      },
      "outputs": [],
      "source": [
        "from google.cloud import language_v1 as language\n",
        "\n",
        "\n",
        "def analyze_text_entities(text: str) -> language.AnalyzeEntitiesResponse:\n",
        "    client = language.LanguageServiceClient()\n",
        "    document = language.Document(\n",
        "        content=text,\n",
        "        type_=language.Document.Type.PLAIN_TEXT,\n",
        "    )\n",
        "    return client.analyze_entities(document=document)\n",
        "\n",
        "\n",
        "def show_text_entities(response: language.AnalyzeEntitiesResponse):\n",
        "    columns = (\"name\", \"type\", \"salience\", \"mid\", \"wikipedia_url\")\n",
        "    data = (\n",
        "        (\n",
        "            entity.name,\n",
        "            entity.type_.name,\n",
        "            entity.salience,\n",
        "            entity.metadata.get(\"mid\", \"\"),\n",
        "            entity.metadata.get(\"wikipedia_url\", \"\"),\n",
        "        )\n",
        "        for entity in response.entities\n",
        "    )\n",
        "    formats = {\"salience\": \"{:.1%}\"}\n",
        "    show_table(columns, data, formats)"
      ]
    },
    {
      "cell_type": "markdown",
      "metadata": {
        "id": "tdiVhvLrxJx7"
      },
      "source": [
        "Now, let's perform an analysis:\n"
      ]
    },
    {
      "cell_type": "code",
      "execution_count": 13,
      "metadata": {
        "id": "28jLkpSqZ5Fc",
        "outputId": "cd301da5-0ddb-40e6-b738-f41674f5603a",
        "colab": {
          "base_uri": "https://localhost:8080/",
          "height": 269
        }
      },
      "outputs": [
        {
          "output_type": "display_data",
          "data": {
            "text/plain": [
              "<pandas.io.formats.style.Styler at 0x797904f90890>"
            ],
            "text/html": [
              "<style type=\"text/css\">\n",
              "#T_198f6 th {\n",
              "  text-align: center;\n",
              "}\n",
              "#T_198f6_row0_col0, #T_198f6_row0_col1, #T_198f6_row0_col3, #T_198f6_row0_col4, #T_198f6_row1_col0, #T_198f6_row1_col1, #T_198f6_row1_col3, #T_198f6_row1_col4, #T_198f6_row2_col0, #T_198f6_row2_col1, #T_198f6_row2_col3, #T_198f6_row2_col4, #T_198f6_row3_col0, #T_198f6_row3_col1, #T_198f6_row3_col3, #T_198f6_row3_col4, #T_198f6_row4_col0, #T_198f6_row4_col1, #T_198f6_row4_col3, #T_198f6_row4_col4, #T_198f6_row5_col0, #T_198f6_row5_col1, #T_198f6_row5_col3, #T_198f6_row5_col4, #T_198f6_row6_col0, #T_198f6_row6_col1, #T_198f6_row6_col3, #T_198f6_row6_col4 {\n",
              "  text-align: left;\n",
              "}\n",
              "</style>\n",
              "<table id=\"T_198f6\" class=\"dataframe\">\n",
              "  <thead>\n",
              "    <tr>\n",
              "      <th id=\"T_198f6_level0_col0\" class=\"col_heading level0 col0\" >name</th>\n",
              "      <th id=\"T_198f6_level0_col1\" class=\"col_heading level0 col1\" >type</th>\n",
              "      <th id=\"T_198f6_level0_col2\" class=\"col_heading level0 col2\" >salience</th>\n",
              "      <th id=\"T_198f6_level0_col3\" class=\"col_heading level0 col3\" >mid</th>\n",
              "      <th id=\"T_198f6_level0_col4\" class=\"col_heading level0 col4\" >wikipedia_url</th>\n",
              "    </tr>\n",
              "  </thead>\n",
              "  <tbody>\n",
              "    <tr>\n",
              "      <td id=\"T_198f6_row0_col0\" class=\"data row0 col0\" >Guido van Rossum</td>\n",
              "      <td id=\"T_198f6_row0_col1\" class=\"data row0 col1\" >PERSON</td>\n",
              "      <td id=\"T_198f6_row0_col2\" class=\"data row0 col2\" >49.8%</td>\n",
              "      <td id=\"T_198f6_row0_col3\" class=\"data row0 col3\" >/m/01h05c</td>\n",
              "      <td id=\"T_198f6_row0_col4\" class=\"data row0 col4\" >https://en.wikipedia.org/wiki/Guido_van_Rossum</td>\n",
              "    </tr>\n",
              "    <tr>\n",
              "      <td id=\"T_198f6_row1_col0\" class=\"data row1 col0\" >Python</td>\n",
              "      <td id=\"T_198f6_row1_col1\" class=\"data row1 col1\" >ORGANIZATION</td>\n",
              "      <td id=\"T_198f6_row1_col2\" class=\"data row1 col2\" >38.4%</td>\n",
              "      <td id=\"T_198f6_row1_col3\" class=\"data row1 col3\" >/m/05z1_</td>\n",
              "      <td id=\"T_198f6_row1_col4\" class=\"data row1 col4\" >https://en.wikipedia.org/wiki/Python_(programming_language)</td>\n",
              "    </tr>\n",
              "    <tr>\n",
              "      <td id=\"T_198f6_row2_col0\" class=\"data row2 col0\" >creator</td>\n",
              "      <td id=\"T_198f6_row2_col1\" class=\"data row2 col1\" >PERSON</td>\n",
              "      <td id=\"T_198f6_row2_col2\" class=\"data row2 col2\" >5.1%</td>\n",
              "      <td id=\"T_198f6_row2_col3\" class=\"data row2 col3\" ></td>\n",
              "      <td id=\"T_198f6_row2_col4\" class=\"data row2 col4\" ></td>\n",
              "    </tr>\n",
              "    <tr>\n",
              "      <td id=\"T_198f6_row3_col0\" class=\"data row3 col0\" >Monty Python</td>\n",
              "      <td id=\"T_198f6_row3_col1\" class=\"data row3 col1\" >PERSON</td>\n",
              "      <td id=\"T_198f6_row3_col2\" class=\"data row3 col2\" >3.2%</td>\n",
              "      <td id=\"T_198f6_row3_col3\" class=\"data row3 col3\" >/m/04sd0</td>\n",
              "      <td id=\"T_198f6_row3_col4\" class=\"data row3 col4\" >https://en.wikipedia.org/wiki/Monty_Python</td>\n",
              "    </tr>\n",
              "    <tr>\n",
              "      <td id=\"T_198f6_row4_col0\" class=\"data row4 col0\" >comedy troupe</td>\n",
              "      <td id=\"T_198f6_row4_col1\" class=\"data row4 col1\" >PERSON</td>\n",
              "      <td id=\"T_198f6_row4_col2\" class=\"data row4 col2\" >1.6%</td>\n",
              "      <td id=\"T_198f6_row4_col3\" class=\"data row4 col3\" ></td>\n",
              "      <td id=\"T_198f6_row4_col4\" class=\"data row4 col4\" ></td>\n",
              "    </tr>\n",
              "    <tr>\n",
              "      <td id=\"T_198f6_row5_col0\" class=\"data row5 col0\" >Haarlem</td>\n",
              "      <td id=\"T_198f6_row5_col1\" class=\"data row5 col1\" >LOCATION</td>\n",
              "      <td id=\"T_198f6_row5_col2\" class=\"data row5 col2\" >1.0%</td>\n",
              "      <td id=\"T_198f6_row5_col3\" class=\"data row5 col3\" >/m/0h095</td>\n",
              "      <td id=\"T_198f6_row5_col4\" class=\"data row5 col4\" >https://en.wikipedia.org/wiki/Haarlem</td>\n",
              "    </tr>\n",
              "    <tr>\n",
              "      <td id=\"T_198f6_row6_col0\" class=\"data row6 col0\" >Netherlands</td>\n",
              "      <td id=\"T_198f6_row6_col1\" class=\"data row6 col1\" >LOCATION</td>\n",
              "      <td id=\"T_198f6_row6_col2\" class=\"data row6 col2\" >0.7%</td>\n",
              "      <td id=\"T_198f6_row6_col3\" class=\"data row6 col3\" >/m/059j2</td>\n",
              "      <td id=\"T_198f6_row6_col4\" class=\"data row6 col4\" >https://en.wikipedia.org/wiki/Netherlands</td>\n",
              "    </tr>\n",
              "  </tbody>\n",
              "</table>\n"
            ]
          },
          "metadata": {}
        }
      ],
      "source": [
        "# Input\n",
        "text = \"Guido van Rossum is best known as the creator of Python, which he named after the Monty Python comedy troupe. He was born in Haarlem, Netherlands.\"  # @param {type:\"string\"}\n",
        "\n",
        "# Send a request to the API\n",
        "analyze_entities_response = analyze_text_entities(text)\n",
        "\n",
        "# Show the results\n",
        "show_text_entities(analyze_entities_response)"
      ]
    },
    {
      "cell_type": "markdown",
      "metadata": {
        "id": "ByF1lee3vCIE"
      },
      "source": [
        "Notes:\n",
        "\n",
        "- For information on which languages are supported by this method, see [Language Support](https://cloud.google.com/natural-language/docs/languages#entity_analysis).\n",
        "- The `type` of the entity is an enum that lets you classify or differentiate entities. For example, this can help distinguish the similarly named entities _“T.E. Lawrence”_ (a `PERSON`) from _“Lawrence of Arabia”_ (the film) (tagged as a `WORK_OF_ART`). See [`Entity.Type`](https://cloud.google.com/python/docs/reference/language/latest/google.cloud.language_v1.types.Entity.Type).\n",
        "- The entity `salience` indicates the importance or relevance of this entity to the entire document text. This score can assist information retrieval and summarization by prioritizing salient entities. Scores closer to 0.0 are less important, while scores closer to 1.0 are highly important.\n",
        "- For more information, see [Entity analysis](https://cloud.google.com/natural-language/docs/basics#entity_analysis).\n",
        "- You can also combine both entity analysis and sentiment analysis with the `analyze_entity_sentiment` method. See [Entity sentiment analysis](https://cloud.google.com/natural-language/docs/basics#entity_analysis).\n"
      ]
    },
    {
      "cell_type": "markdown",
      "metadata": {
        "id": "uqzc9quwdurW"
      },
      "source": [
        "---\n",
        "\n",
        "## 3️⃣ Syntax analysis\n",
        "\n",
        "Syntax analysis extracts linguistic information, breaking up the given text into a series of sentences and tokens (generally based on word boundaries), providing further analysis on those tokens. It is performed with the `analyze_syntax` method which returns an `AnalyzeSyntaxResponse`.\n"
      ]
    },
    {
      "cell_type": "code",
      "execution_count": null,
      "metadata": {
        "id": "iAOfoJEUdurW"
      },
      "outputs": [],
      "source": [
        "from google.cloud import language_v1 as language\n",
        "\n",
        "\n",
        "def analyze_text_syntax(text: str) -> language.AnalyzeSyntaxResponse:\n",
        "    client = language.LanguageServiceClient()\n",
        "    document = language.Document(\n",
        "        content=text,\n",
        "        type_=language.Document.Type.PLAIN_TEXT,\n",
        "    )\n",
        "    return client.analyze_syntax(document=document)\n",
        "\n",
        "\n",
        "def get_token_info(token: language.Token | None) -> list[str]:\n",
        "    parts = [\n",
        "        \"tag\",\n",
        "        \"aspect\",\n",
        "        \"case\",\n",
        "        \"form\",\n",
        "        \"gender\",\n",
        "        \"mood\",\n",
        "        \"number\",\n",
        "        \"person\",\n",
        "        \"proper\",\n",
        "        \"reciprocity\",\n",
        "        \"tense\",\n",
        "        \"voice\",\n",
        "    ]\n",
        "    if not token:\n",
        "        return [\"token\", \"lemma\"] + parts\n",
        "\n",
        "    text = token.text.content\n",
        "    lemma = token.lemma if token.lemma != token.text.content else \"\"\n",
        "    info = [text, lemma]\n",
        "    for part in parts:\n",
        "        pos = token.part_of_speech\n",
        "        info.append(getattr(pos, part).name if part in pos else \"\")\n",
        "\n",
        "    return info\n",
        "\n",
        "\n",
        "def show_text_syntax(response: language.AnalyzeSyntaxResponse):\n",
        "    tokens = len(response.tokens)\n",
        "    sentences = len(response.sentences)\n",
        "    columns = get_token_info(None)\n",
        "    data = (get_token_info(token) for token in response.tokens)\n",
        "\n",
        "    print(f\"Analyzed {tokens} token(s) from {sentences} sentence(s)\")\n",
        "    show_table(columns, data, remove_empty_columns=True)"
      ]
    },
    {
      "cell_type": "markdown",
      "metadata": {
        "id": "YSDS0-o0xNqf"
      },
      "source": [
        "Now, let's perform an analysis:\n"
      ]
    },
    {
      "cell_type": "code",
      "execution_count": null,
      "metadata": {
        "id": "spjtSAfaDqQL"
      },
      "outputs": [],
      "source": [
        "# Input\n",
        "text = \"Guido van Rossum is best known as the creator of Python. He was born in Haarlem, Netherlands.\"  # @param {type:\"string\"}\n",
        "\n",
        "# Send a request to the API\n",
        "analyze_syntax_response = analyze_text_syntax(text)\n",
        "\n",
        "# Show the results\n",
        "show_text_syntax(analyze_syntax_response)"
      ]
    },
    {
      "cell_type": "markdown",
      "metadata": {
        "id": "VmRISErnz7iq"
      },
      "source": [
        "There are multiple benefits to extracting the syntax information. One of them is to extract the lemmas. A `lemma` contains the \"root\" word upon which this token is based, which allows you to manage words with their canonical forms.\n",
        "\n",
        "If you dive deeper into the response insights, you'll also find the relationships between the tokens. Here is a visual interpretation showing the complete syntax analysis for this example:\n",
        "\n",
        "![Syntax Analysis](https://github.com/GoogleCloudPlatform/devrel-demos/blob/main/other/colab/pics/natural_language_syntax.png?raw=1)\n",
        "\n",
        "> This is a screenshot from the online [Natural Language demo](https://cloud.google.com/natural-language/#natural-language-api-demo) with which you can create your own parse trees.\n",
        "\n",
        "For more information, see the following:\n",
        "\n",
        "- [`language.AnalyzeSyntaxResponse`](https://cloud.google.com/python/docs/reference/language/latest/google.cloud.language_v1.types.AnalyzeSyntaxResponse)\n",
        "- [Language Support](https://cloud.google.com/natural-language/docs/languages#syntactic_analysis)\n",
        "- [Syntactic analysis](https://cloud.google.com/natural-language/docs/basics#syntactic_analysis)\n",
        "- [Morphology & Dependency Trees](https://cloud.google.com/natural-language/docs/morphology)\n"
      ]
    },
    {
      "cell_type": "markdown",
      "metadata": {
        "id": "KlDeFxQXdxHw"
      },
      "source": [
        "---\n",
        "\n",
        "## 4️⃣ Content classification\n",
        "\n",
        "Content classification analyzes a document and returns a list of content categories that apply to the text found in the document. It is performed with the `classify_text` method which returns a `ClassifyTextResponse`.\n"
      ]
    },
    {
      "cell_type": "code",
      "execution_count": null,
      "metadata": {
        "id": "Q0dk8qaldxHw"
      },
      "outputs": [],
      "source": [
        "from google.cloud import language_v1 as language\n",
        "\n",
        "\n",
        "def classify_text(text: str) -> language.ClassifyTextResponse:\n",
        "    client = language.LanguageServiceClient()\n",
        "    document = language.Document(\n",
        "        content=text,\n",
        "        type_=language.Document.Type.PLAIN_TEXT,\n",
        "    )\n",
        "    return client.classify_text(document=document)\n",
        "\n",
        "\n",
        "def show_text_classification(response: language.ClassifyTextResponse):\n",
        "    columns = [\"category\", \"confidence\"]\n",
        "    data = ((category.name, category.confidence) for category in response.categories)\n",
        "    formats = {\"confidence\": \"{:.0%}\"}\n",
        "    show_table(columns, data, formats)"
      ]
    },
    {
      "cell_type": "markdown",
      "metadata": {
        "id": "1e6v4_D_xOpC"
      },
      "source": [
        "Now, let's perform an analysis:\n"
      ]
    },
    {
      "cell_type": "code",
      "execution_count": null,
      "metadata": {
        "id": "rX5uDw7gbqeW"
      },
      "outputs": [],
      "source": [
        "# Input\n",
        "text = \"Python is an interpreted, high-level, general-purpose programming language. Created by Guido van Rossum and first released in 1991, Python's design philosophy emphasizes code readability with its notable use of significant whitespace.\"  # @param {type:\"string\"}\n",
        "\n",
        "# Send a request to the API\n",
        "classify_text_response = classify_text(text)\n",
        "\n",
        "# Show the results\n",
        "show_text_classification(classify_text_response)"
      ]
    },
    {
      "cell_type": "markdown",
      "metadata": {
        "id": "lmTbxLTcU0DD"
      },
      "source": [
        "> Important: You must supply a text block (document) with at least twenty tokens.\n",
        "\n",
        "For more information, see the following docs:\n",
        "\n",
        "- [`ClassifyTextResponse`](https://cloud.google.com/python/docs/reference/language/latest/google.cloud.language_v1.types.ClassifyTextResponse)\n",
        "- [Language Support](https://cloud.google.com/natural-language/docs/languages#content_classification)\n",
        "- [Content Classification](https://cloud.google.com/natural-language/docs/basics#content-classification)\n"
      ]
    },
    {
      "cell_type": "markdown",
      "metadata": {
        "id": "6kwyisBaPjdy"
      },
      "source": [
        "---\n",
        "\n",
        "## 5️⃣ Text moderation\n",
        "\n",
        "Powered by Google's latest [PaLM 2](https://blog.google/technology/ai/google-palm-2-ai-large-language-model) foundation model, text moderation identifies a wide range of harmful content, including hate speech, bullying, and sexual harassment. It is performed with the `moderate_text` method which returns a `ModerateTextResponse`.\n"
      ]
    },
    {
      "cell_type": "code",
      "execution_count": null,
      "metadata": {
        "id": "lCnXARVgQeEG"
      },
      "outputs": [],
      "source": [
        "from google.cloud import language_v1 as language\n",
        "\n",
        "\n",
        "def moderate_text(text: str) -> language.ModerateTextResponse:\n",
        "    client = language.LanguageServiceClient()\n",
        "    document = language.Document(\n",
        "        content=text,\n",
        "        type_=language.Document.Type.PLAIN_TEXT,\n",
        "    )\n",
        "    return client.moderate_text(document=document)\n",
        "\n",
        "\n",
        "def show_text_moderation(response: language.ModerateTextResponse):\n",
        "    def confidence(category: language.ClassificationCategory) -> float:\n",
        "        return category.confidence\n",
        "\n",
        "    columns = [\"category\", \"confidence\"]\n",
        "    categories = response.moderation_categories\n",
        "    sorted_categories = sorted(categories, key=confidence, reverse=True)\n",
        "    data = ((category.name, category.confidence) for category in sorted_categories)\n",
        "    formats = {\"confidence\": \"{:.0%}\"}\n",
        "    show_table(columns, data, formats)"
      ]
    },
    {
      "cell_type": "markdown",
      "metadata": {
        "id": "bYCoQUl2AVyY"
      },
      "source": [
        "Now, let's perform an analysis:\n"
      ]
    },
    {
      "cell_type": "code",
      "execution_count": null,
      "metadata": {
        "id": "EAvFP85eAVye"
      },
      "outputs": [],
      "source": [
        "# Input\n",
        "text = \"I have to read Ulysses by James Joyce and am a little over halfway through. I hate it. What a pile of garbage!\"  # @param {type:\"string\"}\n",
        "\n",
        "# Send a request to the API\n",
        "moderate_text_response = moderate_text(text)\n",
        "\n",
        "# Show the results\n",
        "show_text_moderation(moderate_text_response)"
      ]
    },
    {
      "cell_type": "markdown",
      "metadata": {
        "id": "5P_RN-mKAVyf"
      },
      "source": [
        "For more information, see the following docs:\n",
        "\n",
        "- [`ModerateTextResponse`](https://cloud.google.com/python/docs/reference/language/latest/google.cloud.language_v1.types.ModerateTextResponse)\n",
        "- [Language Support](https://cloud.google.com/natural-language/docs/languages#content_classification)\n",
        "- [Moderating Text](https://cloud.google.com/natural-language/docs/moderating-text)\n"
      ]
    },
    {
      "cell_type": "markdown",
      "metadata": {
        "id": "dNqzg9ylC0G2"
      },
      "source": [
        "---\n",
        "\n",
        "## 🎉 Congratulations\n",
        "\n",
        "You learned how to use the Natural Language API with Python!\n",
        "\n",
        "<center>\n",
        "<table><tr><td>\n",
        "<img src=\"https://github.com/GoogleCloudPlatform/devrel-demos/blob/main/other/colab/pics/natural_language_api.png?raw=1\" style=\"height:200px;\" height=\"200\" />\n",
        "</td></tr></table>\n",
        "<table><tr>\n"
      ]
    }
  ],
  "metadata": {
    "colab": {
      "provenance": [],
      "include_colab_link": true
    },
    "kernelspec": {
      "display_name": "Python 3.10.4 64-bit",
      "language": "python",
      "name": "python3"
    },
    "language_info": {
      "codemirror_mode": {
        "name": "ipython",
        "version": 3
      },
      "file_extension": ".py",
      "mimetype": "text/x-python",
      "name": "python",
      "nbconvert_exporter": "python",
      "pygments_lexer": "ipython3",
      "version": "3.11.1"
    },
    "widgets": {
      "application/vnd.jupyter.widget-state+json": {
        "8ecd8d08908c448a8702ff06c289693b": {
          "model_module": "@jupyter-widgets/controls",
          "model_name": "VBoxModel",
          "model_module_version": "1.5.0",
          "state": {
            "_dom_classes": [
              "widget-interact"
            ],
            "_model_module": "@jupyter-widgets/controls",
            "_model_module_version": "1.5.0",
            "_model_name": "VBoxModel",
            "_view_count": null,
            "_view_module": "@jupyter-widgets/controls",
            "_view_module_version": "1.5.0",
            "_view_name": "VBoxView",
            "box_style": "",
            "children": [
              "IPY_MODEL_b48d8b3f690e4c42a67279aa2028e979",
              "IPY_MODEL_ae0a11fb4b80484b9d2185a933362d0d"
            ],
            "layout": "IPY_MODEL_d8c36d7cdd684d0b9bd4d606a4b4acfa"
          }
        },
        "b48d8b3f690e4c42a67279aa2028e979": {
          "model_module": "@jupyter-widgets/controls",
          "model_name": "DropdownModel",
          "model_module_version": "1.5.0",
          "state": {
            "_dom_classes": [],
            "_model_module": "@jupyter-widgets/controls",
            "_model_module_version": "1.5.0",
            "_model_name": "DropdownModel",
            "_options_labels": [
              "stock-prediction-450009",
              "clean-sequencer-449118-h2"
            ],
            "_view_count": null,
            "_view_module": "@jupyter-widgets/controls",
            "_view_module_version": "1.5.0",
            "_view_name": "DropdownView",
            "description": "PROJECT_ID",
            "description_tooltip": null,
            "disabled": false,
            "index": 0,
            "layout": "IPY_MODEL_6f5ecda65c004e558ae74198f05a111d",
            "style": "IPY_MODEL_7759ba3b80274ba890f5dc74b3832332"
          }
        },
        "ae0a11fb4b80484b9d2185a933362d0d": {
          "model_module": "@jupyter-widgets/output",
          "model_name": "OutputModel",
          "model_module_version": "1.0.0",
          "state": {
            "_dom_classes": [],
            "_model_module": "@jupyter-widgets/output",
            "_model_module_version": "1.0.0",
            "_model_name": "OutputModel",
            "_view_count": null,
            "_view_module": "@jupyter-widgets/output",
            "_view_module_version": "1.0.0",
            "_view_name": "OutputView",
            "layout": "IPY_MODEL_cd2634139e7f457e8bcca169f1795c89",
            "msg_id": "",
            "outputs": [
              {
                "output_type": "stream",
                "name": "stdout",
                "text": [
                  "✔️ PROJECT_ID: stock-prediction-450009\n"
                ]
              }
            ]
          }
        },
        "d8c36d7cdd684d0b9bd4d606a4b4acfa": {
          "model_module": "@jupyter-widgets/base",
          "model_name": "LayoutModel",
          "model_module_version": "1.2.0",
          "state": {
            "_model_module": "@jupyter-widgets/base",
            "_model_module_version": "1.2.0",
            "_model_name": "LayoutModel",
            "_view_count": null,
            "_view_module": "@jupyter-widgets/base",
            "_view_module_version": "1.2.0",
            "_view_name": "LayoutView",
            "align_content": null,
            "align_items": null,
            "align_self": null,
            "border": null,
            "bottom": null,
            "display": null,
            "flex": null,
            "flex_flow": null,
            "grid_area": null,
            "grid_auto_columns": null,
            "grid_auto_flow": null,
            "grid_auto_rows": null,
            "grid_column": null,
            "grid_gap": null,
            "grid_row": null,
            "grid_template_areas": null,
            "grid_template_columns": null,
            "grid_template_rows": null,
            "height": null,
            "justify_content": null,
            "justify_items": null,
            "left": null,
            "margin": null,
            "max_height": null,
            "max_width": null,
            "min_height": null,
            "min_width": null,
            "object_fit": null,
            "object_position": null,
            "order": null,
            "overflow": null,
            "overflow_x": null,
            "overflow_y": null,
            "padding": null,
            "right": null,
            "top": null,
            "visibility": null,
            "width": null
          }
        },
        "6f5ecda65c004e558ae74198f05a111d": {
          "model_module": "@jupyter-widgets/base",
          "model_name": "LayoutModel",
          "model_module_version": "1.2.0",
          "state": {
            "_model_module": "@jupyter-widgets/base",
            "_model_module_version": "1.2.0",
            "_model_name": "LayoutModel",
            "_view_count": null,
            "_view_module": "@jupyter-widgets/base",
            "_view_module_version": "1.2.0",
            "_view_name": "LayoutView",
            "align_content": null,
            "align_items": null,
            "align_self": null,
            "border": null,
            "bottom": null,
            "display": null,
            "flex": null,
            "flex_flow": null,
            "grid_area": null,
            "grid_auto_columns": null,
            "grid_auto_flow": null,
            "grid_auto_rows": null,
            "grid_column": null,
            "grid_gap": null,
            "grid_row": null,
            "grid_template_areas": null,
            "grid_template_columns": null,
            "grid_template_rows": null,
            "height": null,
            "justify_content": null,
            "justify_items": null,
            "left": null,
            "margin": null,
            "max_height": null,
            "max_width": null,
            "min_height": null,
            "min_width": null,
            "object_fit": null,
            "object_position": null,
            "order": null,
            "overflow": null,
            "overflow_x": null,
            "overflow_y": null,
            "padding": null,
            "right": null,
            "top": null,
            "visibility": null,
            "width": null
          }
        },
        "7759ba3b80274ba890f5dc74b3832332": {
          "model_module": "@jupyter-widgets/controls",
          "model_name": "DescriptionStyleModel",
          "model_module_version": "1.5.0",
          "state": {
            "_model_module": "@jupyter-widgets/controls",
            "_model_module_version": "1.5.0",
            "_model_name": "DescriptionStyleModel",
            "_view_count": null,
            "_view_module": "@jupyter-widgets/base",
            "_view_module_version": "1.2.0",
            "_view_name": "StyleView",
            "description_width": ""
          }
        },
        "cd2634139e7f457e8bcca169f1795c89": {
          "model_module": "@jupyter-widgets/base",
          "model_name": "LayoutModel",
          "model_module_version": "1.2.0",
          "state": {
            "_model_module": "@jupyter-widgets/base",
            "_model_module_version": "1.2.0",
            "_model_name": "LayoutModel",
            "_view_count": null,
            "_view_module": "@jupyter-widgets/base",
            "_view_module_version": "1.2.0",
            "_view_name": "LayoutView",
            "align_content": null,
            "align_items": null,
            "align_self": null,
            "border": null,
            "bottom": null,
            "display": null,
            "flex": null,
            "flex_flow": null,
            "grid_area": null,
            "grid_auto_columns": null,
            "grid_auto_flow": null,
            "grid_auto_rows": null,
            "grid_column": null,
            "grid_gap": null,
            "grid_row": null,
            "grid_template_areas": null,
            "grid_template_columns": null,
            "grid_template_rows": null,
            "height": null,
            "justify_content": null,
            "justify_items": null,
            "left": null,
            "margin": null,
            "max_height": null,
            "max_width": null,
            "min_height": null,
            "min_width": null,
            "object_fit": null,
            "object_position": null,
            "order": null,
            "overflow": null,
            "overflow_x": null,
            "overflow_y": null,
            "padding": null,
            "right": null,
            "top": null,
            "visibility": null,
            "width": null
          }
        },
        "989f2d2ee2d746eda25f8dc80282bc7d": {
          "model_module": "@jupyter-widgets/controls",
          "model_name": "DropdownModel",
          "model_module_version": "1.5.0",
          "state": {
            "_dom_classes": [],
            "_model_module": "@jupyter-widgets/controls",
            "_model_module_version": "1.5.0",
            "_model_name": "DropdownModel",
            "_options_labels": [
              "UBER",
              "ADSK",
              "FTNT",
              "AMAT",
              "PLTR",
              "AAPL",
              "NVDA",
              "CSCO",
              "NOW",
              "ORCL",
              "AVGO",
              "MSFT",
              "CRM",
              "CMCSA",
              "TMUS",
              "T",
              "VZ",
              "TXN",
              "INTU",
              "ACN",
              "ADBE",
              "AMD",
              "QCOM",
              "IBM",
              "ANET",
              "PANW",
              "ADP",
              "MU",
              "ADI",
              "FI",
              "APH",
              "CDNS",
              "CRWD",
              "INTC",
              "KLAC",
              "SNPS",
              "LRCX",
              "MSI",
              "DIS",
              "NFLX",
              "META",
              "GOOGL",
              "GOOG"
            ],
            "_view_count": null,
            "_view_module": "@jupyter-widgets/controls",
            "_view_module_version": "1.5.0",
            "_view_name": "DropdownView",
            "description": "Ticker:",
            "description_tooltip": null,
            "disabled": false,
            "index": 0,
            "layout": "IPY_MODEL_cbbeb336eb8846e88c1392af9fbe113c",
            "style": "IPY_MODEL_6aecd24fa3784c3394204b7d96a0b63b"
          }
        },
        "cbbeb336eb8846e88c1392af9fbe113c": {
          "model_module": "@jupyter-widgets/base",
          "model_name": "LayoutModel",
          "model_module_version": "1.2.0",
          "state": {
            "_model_module": "@jupyter-widgets/base",
            "_model_module_version": "1.2.0",
            "_model_name": "LayoutModel",
            "_view_count": null,
            "_view_module": "@jupyter-widgets/base",
            "_view_module_version": "1.2.0",
            "_view_name": "LayoutView",
            "align_content": null,
            "align_items": null,
            "align_self": null,
            "border": null,
            "bottom": null,
            "display": null,
            "flex": null,
            "flex_flow": null,
            "grid_area": null,
            "grid_auto_columns": null,
            "grid_auto_flow": null,
            "grid_auto_rows": null,
            "grid_column": null,
            "grid_gap": null,
            "grid_row": null,
            "grid_template_areas": null,
            "grid_template_columns": null,
            "grid_template_rows": null,
            "height": null,
            "justify_content": null,
            "justify_items": null,
            "left": null,
            "margin": null,
            "max_height": null,
            "max_width": null,
            "min_height": null,
            "min_width": null,
            "object_fit": null,
            "object_position": null,
            "order": null,
            "overflow": null,
            "overflow_x": null,
            "overflow_y": null,
            "padding": null,
            "right": null,
            "top": null,
            "visibility": null,
            "width": null
          }
        },
        "6aecd24fa3784c3394204b7d96a0b63b": {
          "model_module": "@jupyter-widgets/controls",
          "model_name": "DescriptionStyleModel",
          "model_module_version": "1.5.0",
          "state": {
            "_model_module": "@jupyter-widgets/controls",
            "_model_module_version": "1.5.0",
            "_model_name": "DescriptionStyleModel",
            "_view_count": null,
            "_view_module": "@jupyter-widgets/base",
            "_view_module_version": "1.2.0",
            "_view_name": "StyleView",
            "description_width": ""
          }
        },
        "ed0b3f521b024be3901f010db84a8e19": {
          "model_module": "@jupyter-widgets/controls",
          "model_name": "DropdownModel",
          "model_module_version": "1.5.0",
          "state": {
            "_dom_classes": [],
            "_model_module": "@jupyter-widgets/controls",
            "_model_module_version": "1.5.0",
            "_model_name": "DropdownModel",
            "_options_labels": [
              "2024",
              "2015",
              "2016",
              "2017",
              "2018",
              "2019",
              "2020",
              "2021",
              "2022",
              "2023"
            ],
            "_view_count": null,
            "_view_module": "@jupyter-widgets/controls",
            "_view_module_version": "1.5.0",
            "_view_name": "DropdownView",
            "description": "Year:",
            "description_tooltip": null,
            "disabled": false,
            "index": 0,
            "layout": "IPY_MODEL_d6c2d14b4d37481eb7494aebed477317",
            "style": "IPY_MODEL_d71983c6984f48b9bad229a082121c7f"
          }
        },
        "d6c2d14b4d37481eb7494aebed477317": {
          "model_module": "@jupyter-widgets/base",
          "model_name": "LayoutModel",
          "model_module_version": "1.2.0",
          "state": {
            "_model_module": "@jupyter-widgets/base",
            "_model_module_version": "1.2.0",
            "_model_name": "LayoutModel",
            "_view_count": null,
            "_view_module": "@jupyter-widgets/base",
            "_view_module_version": "1.2.0",
            "_view_name": "LayoutView",
            "align_content": null,
            "align_items": null,
            "align_self": null,
            "border": null,
            "bottom": null,
            "display": null,
            "flex": null,
            "flex_flow": null,
            "grid_area": null,
            "grid_auto_columns": null,
            "grid_auto_flow": null,
            "grid_auto_rows": null,
            "grid_column": null,
            "grid_gap": null,
            "grid_row": null,
            "grid_template_areas": null,
            "grid_template_columns": null,
            "grid_template_rows": null,
            "height": null,
            "justify_content": null,
            "justify_items": null,
            "left": null,
            "margin": null,
            "max_height": null,
            "max_width": null,
            "min_height": null,
            "min_width": null,
            "object_fit": null,
            "object_position": null,
            "order": null,
            "overflow": null,
            "overflow_x": null,
            "overflow_y": null,
            "padding": null,
            "right": null,
            "top": null,
            "visibility": null,
            "width": null
          }
        },
        "d71983c6984f48b9bad229a082121c7f": {
          "model_module": "@jupyter-widgets/controls",
          "model_name": "DescriptionStyleModel",
          "model_module_version": "1.5.0",
          "state": {
            "_model_module": "@jupyter-widgets/controls",
            "_model_module_version": "1.5.0",
            "_model_name": "DescriptionStyleModel",
            "_view_count": null,
            "_view_module": "@jupyter-widgets/base",
            "_view_module_version": "1.2.0",
            "_view_name": "StyleView",
            "description_width": ""
          }
        },
        "0646e5a0eb4141c2874b99af65e563f8": {
          "model_module": "@jupyter-widgets/controls",
          "model_name": "DropdownModel",
          "model_module_version": "1.5.0",
          "state": {
            "_dom_classes": [],
            "_model_module": "@jupyter-widgets/controls",
            "_model_module_version": "1.5.0",
            "_model_name": "DropdownModel",
            "_options_labels": [
              "Q2",
              "Q3",
              "Q1",
              "Q4"
            ],
            "_view_count": null,
            "_view_module": "@jupyter-widgets/controls",
            "_view_module_version": "1.5.0",
            "_view_name": "DropdownView",
            "description": "Quarter:",
            "description_tooltip": null,
            "disabled": false,
            "index": 0,
            "layout": "IPY_MODEL_85726a14637f4ccf9504ecbb5986503f",
            "style": "IPY_MODEL_610441babb5d45dc8f0dfeb988524a59"
          }
        },
        "85726a14637f4ccf9504ecbb5986503f": {
          "model_module": "@jupyter-widgets/base",
          "model_name": "LayoutModel",
          "model_module_version": "1.2.0",
          "state": {
            "_model_module": "@jupyter-widgets/base",
            "_model_module_version": "1.2.0",
            "_model_name": "LayoutModel",
            "_view_count": null,
            "_view_module": "@jupyter-widgets/base",
            "_view_module_version": "1.2.0",
            "_view_name": "LayoutView",
            "align_content": null,
            "align_items": null,
            "align_self": null,
            "border": null,
            "bottom": null,
            "display": null,
            "flex": null,
            "flex_flow": null,
            "grid_area": null,
            "grid_auto_columns": null,
            "grid_auto_flow": null,
            "grid_auto_rows": null,
            "grid_column": null,
            "grid_gap": null,
            "grid_row": null,
            "grid_template_areas": null,
            "grid_template_columns": null,
            "grid_template_rows": null,
            "height": null,
            "justify_content": null,
            "justify_items": null,
            "left": null,
            "margin": null,
            "max_height": null,
            "max_width": null,
            "min_height": null,
            "min_width": null,
            "object_fit": null,
            "object_position": null,
            "order": null,
            "overflow": null,
            "overflow_x": null,
            "overflow_y": null,
            "padding": null,
            "right": null,
            "top": null,
            "visibility": null,
            "width": null
          }
        },
        "610441babb5d45dc8f0dfeb988524a59": {
          "model_module": "@jupyter-widgets/controls",
          "model_name": "DescriptionStyleModel",
          "model_module_version": "1.5.0",
          "state": {
            "_model_module": "@jupyter-widgets/controls",
            "_model_module_version": "1.5.0",
            "_model_name": "DescriptionStyleModel",
            "_view_count": null,
            "_view_module": "@jupyter-widgets/base",
            "_view_module_version": "1.2.0",
            "_view_name": "StyleView",
            "description_width": ""
          }
        },
        "c62e8b2ead934f088fdc549045d3a4af": {
          "model_module": "@jupyter-widgets/controls",
          "model_name": "ButtonModel",
          "model_module_version": "1.5.0",
          "state": {
            "_dom_classes": [],
            "_model_module": "@jupyter-widgets/controls",
            "_model_module_version": "1.5.0",
            "_model_name": "ButtonModel",
            "_view_count": null,
            "_view_module": "@jupyter-widgets/controls",
            "_view_module_version": "1.5.0",
            "_view_name": "ButtonView",
            "button_style": "",
            "description": "Filter",
            "disabled": false,
            "icon": "",
            "layout": "IPY_MODEL_88c233f4cc7940edb2438407747be0fa",
            "style": "IPY_MODEL_199dfa98ec99472d876b7fdb3cbdff0b",
            "tooltip": ""
          }
        },
        "88c233f4cc7940edb2438407747be0fa": {
          "model_module": "@jupyter-widgets/base",
          "model_name": "LayoutModel",
          "model_module_version": "1.2.0",
          "state": {
            "_model_module": "@jupyter-widgets/base",
            "_model_module_version": "1.2.0",
            "_model_name": "LayoutModel",
            "_view_count": null,
            "_view_module": "@jupyter-widgets/base",
            "_view_module_version": "1.2.0",
            "_view_name": "LayoutView",
            "align_content": null,
            "align_items": null,
            "align_self": null,
            "border": null,
            "bottom": null,
            "display": null,
            "flex": null,
            "flex_flow": null,
            "grid_area": null,
            "grid_auto_columns": null,
            "grid_auto_flow": null,
            "grid_auto_rows": null,
            "grid_column": null,
            "grid_gap": null,
            "grid_row": null,
            "grid_template_areas": null,
            "grid_template_columns": null,
            "grid_template_rows": null,
            "height": null,
            "justify_content": null,
            "justify_items": null,
            "left": null,
            "margin": null,
            "max_height": null,
            "max_width": null,
            "min_height": null,
            "min_width": null,
            "object_fit": null,
            "object_position": null,
            "order": null,
            "overflow": null,
            "overflow_x": null,
            "overflow_y": null,
            "padding": null,
            "right": null,
            "top": null,
            "visibility": null,
            "width": null
          }
        },
        "199dfa98ec99472d876b7fdb3cbdff0b": {
          "model_module": "@jupyter-widgets/controls",
          "model_name": "ButtonStyleModel",
          "model_module_version": "1.5.0",
          "state": {
            "_model_module": "@jupyter-widgets/controls",
            "_model_module_version": "1.5.0",
            "_model_name": "ButtonStyleModel",
            "_view_count": null,
            "_view_module": "@jupyter-widgets/base",
            "_view_module_version": "1.2.0",
            "_view_name": "StyleView",
            "button_color": null,
            "font_weight": ""
          }
        },
        "d9d0a6b82f60474baef767fb169bdd40": {
          "model_module": "@jupyter-widgets/controls",
          "model_name": "ButtonModel",
          "model_module_version": "1.5.0",
          "state": {
            "_dom_classes": [],
            "_model_module": "@jupyter-widgets/controls",
            "_model_module_version": "1.5.0",
            "_model_name": "ButtonModel",
            "_view_count": null,
            "_view_module": "@jupyter-widgets/controls",
            "_view_module_version": "1.5.0",
            "_view_name": "ButtonView",
            "button_style": "",
            "description": "Filter and Analyze",
            "disabled": false,
            "icon": "",
            "layout": "IPY_MODEL_f5a5757352c3411da6db368a87e9cd82",
            "style": "IPY_MODEL_7c7d6647595548319783424320948c21",
            "tooltip": ""
          }
        },
        "f5a5757352c3411da6db368a87e9cd82": {
          "model_module": "@jupyter-widgets/base",
          "model_name": "LayoutModel",
          "model_module_version": "1.2.0",
          "state": {
            "_model_module": "@jupyter-widgets/base",
            "_model_module_version": "1.2.0",
            "_model_name": "LayoutModel",
            "_view_count": null,
            "_view_module": "@jupyter-widgets/base",
            "_view_module_version": "1.2.0",
            "_view_name": "LayoutView",
            "align_content": null,
            "align_items": null,
            "align_self": null,
            "border": null,
            "bottom": null,
            "display": null,
            "flex": null,
            "flex_flow": null,
            "grid_area": null,
            "grid_auto_columns": null,
            "grid_auto_flow": null,
            "grid_auto_rows": null,
            "grid_column": null,
            "grid_gap": null,
            "grid_row": null,
            "grid_template_areas": null,
            "grid_template_columns": null,
            "grid_template_rows": null,
            "height": null,
            "justify_content": null,
            "justify_items": null,
            "left": null,
            "margin": null,
            "max_height": null,
            "max_width": null,
            "min_height": null,
            "min_width": null,
            "object_fit": null,
            "object_position": null,
            "order": null,
            "overflow": null,
            "overflow_x": null,
            "overflow_y": null,
            "padding": null,
            "right": null,
            "top": null,
            "visibility": null,
            "width": null
          }
        },
        "7c7d6647595548319783424320948c21": {
          "model_module": "@jupyter-widgets/controls",
          "model_name": "ButtonStyleModel",
          "model_module_version": "1.5.0",
          "state": {
            "_model_module": "@jupyter-widgets/controls",
            "_model_module_version": "1.5.0",
            "_model_name": "ButtonStyleModel",
            "_view_count": null,
            "_view_module": "@jupyter-widgets/base",
            "_view_module_version": "1.2.0",
            "_view_name": "StyleView",
            "button_color": null,
            "font_weight": ""
          }
        }
      }
    }
  },
  "nbformat": 4,
  "nbformat_minor": 0
}